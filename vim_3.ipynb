{
 "cells": [
  {
   "cell_type": "markdown",
   "metadata": {},
   "source": [
    "# Предобработка датасета"
   ]
  },
  {
   "cell_type": "markdown",
   "metadata": {},
   "source": [
    "Обработка пустых ячеек, очистка датафрейма, нормализация дат, нормализация категорий данных"
   ]
  },
  {
   "cell_type": "code",
   "execution_count": 1,
   "metadata": {},
   "outputs": [],
   "source": [
    "import pandas as pd"
   ]
  },
  {
   "cell_type": "code",
   "execution_count": 2,
   "metadata": {},
   "outputs": [],
   "source": [
    "df = pd.read_csv(\"disney_plus_shows.csv\", index_col='imdb_id')"
   ]
  },
  {
   "cell_type": "code",
   "execution_count": 3,
   "metadata": {},
   "outputs": [
    {
     "data": {
      "text/html": [
       "<div>\n",
       "<style scoped>\n",
       "    .dataframe tbody tr th:only-of-type {\n",
       "        vertical-align: middle;\n",
       "    }\n",
       "\n",
       "    .dataframe tbody tr th {\n",
       "        vertical-align: top;\n",
       "    }\n",
       "\n",
       "    .dataframe thead th {\n",
       "        text-align: right;\n",
       "    }\n",
       "</style>\n",
       "<table border=\"1\" class=\"dataframe\">\n",
       "  <thead>\n",
       "    <tr style=\"text-align: right;\">\n",
       "      <th></th>\n",
       "      <th>title</th>\n",
       "      <th>plot</th>\n",
       "      <th>type</th>\n",
       "      <th>rated</th>\n",
       "      <th>year</th>\n",
       "      <th>released_at</th>\n",
       "      <th>added_at</th>\n",
       "      <th>runtime</th>\n",
       "      <th>genre</th>\n",
       "      <th>director</th>\n",
       "      <th>writer</th>\n",
       "      <th>actors</th>\n",
       "      <th>language</th>\n",
       "      <th>country</th>\n",
       "      <th>awards</th>\n",
       "      <th>metascore</th>\n",
       "      <th>imdb_rating</th>\n",
       "      <th>imdb_votes</th>\n",
       "    </tr>\n",
       "    <tr>\n",
       "      <th>imdb_id</th>\n",
       "      <th></th>\n",
       "      <th></th>\n",
       "      <th></th>\n",
       "      <th></th>\n",
       "      <th></th>\n",
       "      <th></th>\n",
       "      <th></th>\n",
       "      <th></th>\n",
       "      <th></th>\n",
       "      <th></th>\n",
       "      <th></th>\n",
       "      <th></th>\n",
       "      <th></th>\n",
       "      <th></th>\n",
       "      <th></th>\n",
       "      <th></th>\n",
       "      <th></th>\n",
       "      <th></th>\n",
       "    </tr>\n",
       "  </thead>\n",
       "  <tbody>\n",
       "    <tr>\n",
       "      <th>tt0147800</th>\n",
       "      <td>10 Things I Hate About You</td>\n",
       "      <td>A pretty, popular teenager can't go out on a d...</td>\n",
       "      <td>movie</td>\n",
       "      <td>PG-13</td>\n",
       "      <td>1999</td>\n",
       "      <td>31 Mar 1999</td>\n",
       "      <td>November 12, 2019</td>\n",
       "      <td>97 min</td>\n",
       "      <td>Comedy, Drama, Romance</td>\n",
       "      <td>Gil Junger</td>\n",
       "      <td>Karen McCullah, Kirsten Smith</td>\n",
       "      <td>Heath Ledger, Julia Stiles, Joseph Gordon-Levi...</td>\n",
       "      <td>English, French</td>\n",
       "      <td>USA</td>\n",
       "      <td>2 wins &amp; 13 nominations.</td>\n",
       "      <td>70.0</td>\n",
       "      <td>7.3</td>\n",
       "      <td>283,945</td>\n",
       "    </tr>\n",
       "    <tr>\n",
       "      <th>tt7019028</th>\n",
       "      <td>101 Dalmatian Street</td>\n",
       "      <td>This series follows the lives of Delilah and D...</td>\n",
       "      <td>series</td>\n",
       "      <td>NaN</td>\n",
       "      <td>2018–</td>\n",
       "      <td>25 Mar 2019</td>\n",
       "      <td>February 28, 2020</td>\n",
       "      <td>NaN</td>\n",
       "      <td>Animation, Comedy, Family</td>\n",
       "      <td>NaN</td>\n",
       "      <td>NaN</td>\n",
       "      <td>Josh Brener, Michaela Dietz, Bert Davis, Abiga...</td>\n",
       "      <td>English</td>\n",
       "      <td>UK, USA, Canada</td>\n",
       "      <td>NaN</td>\n",
       "      <td>NaN</td>\n",
       "      <td>6.2</td>\n",
       "      <td>124</td>\n",
       "    </tr>\n",
       "    <tr>\n",
       "      <th>tt0115433</th>\n",
       "      <td>101 Dalmatians</td>\n",
       "      <td>An evil high-fashion designer plots to steal D...</td>\n",
       "      <td>movie</td>\n",
       "      <td>G</td>\n",
       "      <td>1996</td>\n",
       "      <td>27 Nov 1996</td>\n",
       "      <td>November 12, 2019</td>\n",
       "      <td>103 min</td>\n",
       "      <td>Adventure, Comedy, Crime, Family</td>\n",
       "      <td>Stephen Herek</td>\n",
       "      <td>Dodie Smith (novel), John Hughes (screenplay)</td>\n",
       "      <td>Glenn Close, Jeff Daniels, Joely Richardson, J...</td>\n",
       "      <td>English, Spanish</td>\n",
       "      <td>USA, UK</td>\n",
       "      <td>Nominated for 1 Golden Globe. Another 3 wins &amp;...</td>\n",
       "      <td>49.0</td>\n",
       "      <td>5.7</td>\n",
       "      <td>97,785</td>\n",
       "    </tr>\n",
       "    <tr>\n",
       "      <th>tt0324941</th>\n",
       "      <td>101 Dalmatians 2: Patch's London Adventure</td>\n",
       "      <td>Being one of 101 takes its toll on Patch, who ...</td>\n",
       "      <td>movie</td>\n",
       "      <td>G</td>\n",
       "      <td>2002</td>\n",
       "      <td>21 Jan 2003</td>\n",
       "      <td>November 12, 2019</td>\n",
       "      <td>74 min</td>\n",
       "      <td>Animation, Adventure, Comedy, Family, Musical</td>\n",
       "      <td>Jim Kammerud, Brian Smith</td>\n",
       "      <td>Jim Kammerud (story), Dan Root (story), Garret...</td>\n",
       "      <td>Barry Bostwick, Jason Alexander, Martin Short,...</td>\n",
       "      <td>English</td>\n",
       "      <td>USA</td>\n",
       "      <td>5 wins &amp; 10 nominations.</td>\n",
       "      <td>NaN</td>\n",
       "      <td>5.8</td>\n",
       "      <td>7,434</td>\n",
       "    </tr>\n",
       "    <tr>\n",
       "      <th>tt0211181</th>\n",
       "      <td>102 Dalmatians</td>\n",
       "      <td>Cruella DeVil gets out of prison and goes afte...</td>\n",
       "      <td>movie</td>\n",
       "      <td>G</td>\n",
       "      <td>2000</td>\n",
       "      <td>22 Nov 2000</td>\n",
       "      <td>November 12, 2019</td>\n",
       "      <td>100 min</td>\n",
       "      <td>Adventure, Comedy, Family</td>\n",
       "      <td>Kevin Lima</td>\n",
       "      <td>Dodie Smith (novel), Kristen Buckley (story), ...</td>\n",
       "      <td>Glenn Close, Gérard Depardieu, Ioan Gruffudd, ...</td>\n",
       "      <td>English</td>\n",
       "      <td>USA, UK</td>\n",
       "      <td>Nominated for 1 Oscar. Another 1 win &amp; 7 nomin...</td>\n",
       "      <td>35.0</td>\n",
       "      <td>4.9</td>\n",
       "      <td>33,444</td>\n",
       "    </tr>\n",
       "  </tbody>\n",
       "</table>\n",
       "</div>"
      ],
      "text/plain": [
       "                                                title  \\\n",
       "imdb_id                                                 \n",
       "tt0147800                  10 Things I Hate About You   \n",
       "tt7019028                        101 Dalmatian Street   \n",
       "tt0115433                              101 Dalmatians   \n",
       "tt0324941  101 Dalmatians 2: Patch's London Adventure   \n",
       "tt0211181                              102 Dalmatians   \n",
       "\n",
       "                                                        plot    type  rated  \\\n",
       "imdb_id                                                                       \n",
       "tt0147800  A pretty, popular teenager can't go out on a d...   movie  PG-13   \n",
       "tt7019028  This series follows the lives of Delilah and D...  series    NaN   \n",
       "tt0115433  An evil high-fashion designer plots to steal D...   movie      G   \n",
       "tt0324941  Being one of 101 takes its toll on Patch, who ...   movie      G   \n",
       "tt0211181  Cruella DeVil gets out of prison and goes afte...   movie      G   \n",
       "\n",
       "            year  released_at           added_at  runtime  \\\n",
       "imdb_id                                                     \n",
       "tt0147800   1999  31 Mar 1999  November 12, 2019   97 min   \n",
       "tt7019028  2018–  25 Mar 2019  February 28, 2020      NaN   \n",
       "tt0115433   1996  27 Nov 1996  November 12, 2019  103 min   \n",
       "tt0324941   2002  21 Jan 2003  November 12, 2019   74 min   \n",
       "tt0211181   2000  22 Nov 2000  November 12, 2019  100 min   \n",
       "\n",
       "                                                   genre  \\\n",
       "imdb_id                                                    \n",
       "tt0147800                         Comedy, Drama, Romance   \n",
       "tt7019028                      Animation, Comedy, Family   \n",
       "tt0115433               Adventure, Comedy, Crime, Family   \n",
       "tt0324941  Animation, Adventure, Comedy, Family, Musical   \n",
       "tt0211181                      Adventure, Comedy, Family   \n",
       "\n",
       "                            director  \\\n",
       "imdb_id                                \n",
       "tt0147800                 Gil Junger   \n",
       "tt7019028                        NaN   \n",
       "tt0115433              Stephen Herek   \n",
       "tt0324941  Jim Kammerud, Brian Smith   \n",
       "tt0211181                 Kevin Lima   \n",
       "\n",
       "                                                      writer  \\\n",
       "imdb_id                                                        \n",
       "tt0147800                      Karen McCullah, Kirsten Smith   \n",
       "tt7019028                                                NaN   \n",
       "tt0115433      Dodie Smith (novel), John Hughes (screenplay)   \n",
       "tt0324941  Jim Kammerud (story), Dan Root (story), Garret...   \n",
       "tt0211181  Dodie Smith (novel), Kristen Buckley (story), ...   \n",
       "\n",
       "                                                      actors  \\\n",
       "imdb_id                                                        \n",
       "tt0147800  Heath Ledger, Julia Stiles, Joseph Gordon-Levi...   \n",
       "tt7019028  Josh Brener, Michaela Dietz, Bert Davis, Abiga...   \n",
       "tt0115433  Glenn Close, Jeff Daniels, Joely Richardson, J...   \n",
       "tt0324941  Barry Bostwick, Jason Alexander, Martin Short,...   \n",
       "tt0211181  Glenn Close, Gérard Depardieu, Ioan Gruffudd, ...   \n",
       "\n",
       "                   language          country  \\\n",
       "imdb_id                                        \n",
       "tt0147800   English, French              USA   \n",
       "tt7019028           English  UK, USA, Canada   \n",
       "tt0115433  English, Spanish          USA, UK   \n",
       "tt0324941           English              USA   \n",
       "tt0211181           English          USA, UK   \n",
       "\n",
       "                                                      awards  metascore  \\\n",
       "imdb_id                                                                   \n",
       "tt0147800                           2 wins & 13 nominations.       70.0   \n",
       "tt7019028                                                NaN        NaN   \n",
       "tt0115433  Nominated for 1 Golden Globe. Another 3 wins &...       49.0   \n",
       "tt0324941                           5 wins & 10 nominations.        NaN   \n",
       "tt0211181  Nominated for 1 Oscar. Another 1 win & 7 nomin...       35.0   \n",
       "\n",
       "           imdb_rating imdb_votes  \n",
       "imdb_id                            \n",
       "tt0147800          7.3    283,945  \n",
       "tt7019028          6.2        124  \n",
       "tt0115433          5.7     97,785  \n",
       "tt0324941          5.8      7,434  \n",
       "tt0211181          4.9     33,444  "
      ]
     },
     "execution_count": 3,
     "metadata": {},
     "output_type": "execute_result"
    }
   ],
   "source": [
    "df.head()"
   ]
  },
  {
   "cell_type": "code",
   "execution_count": 4,
   "metadata": {},
   "outputs": [],
   "source": [
    "df_norm = df.copy()"
   ]
  },
  {
   "cell_type": "markdown",
   "metadata": {},
   "source": [
    "Удаление столбца с сюжетом, так как эти данные неудобно анализировать"
   ]
  },
  {
   "cell_type": "code",
   "execution_count": 5,
   "metadata": {},
   "outputs": [],
   "source": [
    "df_norm = df_norm.drop(columns=['plot'])"
   ]
  },
  {
   "cell_type": "code",
   "execution_count": 6,
   "metadata": {},
   "outputs": [
    {
     "data": {
      "text/plain": [
       "array(['movie', 'series', nan, 'episode'], dtype=object)"
      ]
     },
     "execution_count": 6,
     "metadata": {},
     "output_type": "execute_result"
    }
   ],
   "source": [
    "df_norm[\"type\"].unique()"
   ]
  },
  {
   "cell_type": "markdown",
   "metadata": {},
   "source": [
    "Удаление строк с пустыми ячейками в столбце type (тип контента)"
   ]
  },
  {
   "cell_type": "code",
   "execution_count": 7,
   "metadata": {},
   "outputs": [],
   "source": [
    "df_norm = df_norm.dropna(subset=['type'])"
   ]
  },
  {
   "cell_type": "markdown",
   "metadata": {},
   "source": [
    "Преобразование строковых данных в числа"
   ]
  },
  {
   "cell_type": "code",
   "execution_count": 8,
   "metadata": {},
   "outputs": [
    {
     "data": {
      "text/plain": [
       "array(['movie', 'series', 'episode'], dtype=object)"
      ]
     },
     "execution_count": 8,
     "metadata": {},
     "output_type": "execute_result"
    }
   ],
   "source": [
    "df_norm[\"type\"].unique()"
   ]
  },
  {
   "cell_type": "code",
   "execution_count": 9,
   "metadata": {},
   "outputs": [],
   "source": [
    "def norm_status(letter: str) -> int:\n",
    "    if letter == \"movie\":\n",
    "        return 0\n",
    "    if letter == \"series\":\n",
    "        return 1\n",
    "    if letter == \"episode\":\n",
    "        return 2"
   ]
  },
  {
   "cell_type": "code",
   "execution_count": 10,
   "metadata": {},
   "outputs": [],
   "source": [
    "df_norm[\"type\"] = df_norm[\"type\"].apply(norm_status)"
   ]
  },
  {
   "cell_type": "code",
   "execution_count": 11,
   "metadata": {},
   "outputs": [
    {
     "data": {
      "text/plain": [
       "array([0, 1, 2], dtype=int64)"
      ]
     },
     "execution_count": 11,
     "metadata": {},
     "output_type": "execute_result"
    }
   ],
   "source": [
    "df_norm[\"type\"].unique()"
   ]
  },
  {
   "cell_type": "markdown",
   "metadata": {},
   "source": [
    "Работа со столбцом rated (рейтинг). Изменение регистра и переименование пустых ячеек"
   ]
  },
  {
   "cell_type": "code",
   "execution_count": 13,
   "metadata": {
    "scrolled": true
   },
   "outputs": [
    {
     "data": {
      "text/plain": [
       "array(['PG-13', nan, 'G', 'PG', 'APPROVED', 'TV-G', 'Not Rated',\n",
       "       'Approved', 'TV-PG', 'UNRATED', 'TV-Y7', 'TV-Y', 'NOT RATED',\n",
       "       'Unrated', 'PASSED', 'TV-14', 'TV-Y7-FV', 'Passed'], dtype=object)"
      ]
     },
     "execution_count": 13,
     "metadata": {},
     "output_type": "execute_result"
    }
   ],
   "source": [
    "df_norm[\"rated\"].unique()"
   ]
  },
  {
   "cell_type": "code",
   "execution_count": 14,
   "metadata": {},
   "outputs": [],
   "source": [
    "df_norm['rated'] = df_norm['rated'].str.lower()"
   ]
  },
  {
   "cell_type": "code",
   "execution_count": 16,
   "metadata": {},
   "outputs": [
    {
     "data": {
      "text/plain": [
       "array(['Pg-13', nan, 'G', 'Pg', 'Approved', 'Tv-g', 'Not rated', 'Tv-pg',\n",
       "       'Unrated', 'Tv-y7', 'Tv-y', 'Passed', 'Tv-14', 'Tv-y7-fv'],\n",
       "      dtype=object)"
      ]
     },
     "execution_count": 16,
     "metadata": {},
     "output_type": "execute_result"
    }
   ],
   "source": [
    "df_norm['rated'] = df_norm['rated'].str.capitalize()"
   ]
  },
  {
   "cell_type": "code",
   "execution_count": 18,
   "metadata": {},
   "outputs": [],
   "source": [
    "df_norm['rated'] = df_norm['rated'].str.replace('Not rated','Unrated')\n",
    "df_norm['rated'] = df_norm['rated'].str.replace('Passed','Unrated')"
   ]
  },
  {
   "cell_type": "code",
   "execution_count": 20,
   "metadata": {},
   "outputs": [],
   "source": [
    "df_norm[\"rated\"] = df_norm[\"rated\"].fillna(\"Unrated\")"
   ]
  },
  {
   "cell_type": "code",
   "execution_count": 21,
   "metadata": {},
   "outputs": [
    {
     "data": {
      "text/plain": [
       "array(['Pg-13', 'Unrated', 'G', 'Pg', 'Approved', 'Tv-g', 'Tv-pg',\n",
       "       'Tv-y7', 'Tv-y', 'Tv-14', 'Tv-y7-fv'], dtype=object)"
      ]
     },
     "execution_count": 21,
     "metadata": {},
     "output_type": "execute_result"
    }
   ],
   "source": [
    "df_norm[\"rated\"].unique()"
   ]
  },
  {
   "cell_type": "code",
   "execution_count": 22,
   "metadata": {},
   "outputs": [],
   "source": [
    "df1_norm = df_norm.copy()"
   ]
  },
  {
   "cell_type": "markdown",
   "metadata": {},
   "source": [
    "Нормализация дат в столбцах released_at и added_at"
   ]
  },
  {
   "cell_type": "code",
   "execution_count": 23,
   "metadata": {},
   "outputs": [],
   "source": [
    "import datetime\n",
    "from datetime import datetime"
   ]
  },
  {
   "cell_type": "code",
   "execution_count": 24,
   "metadata": {},
   "outputs": [],
   "source": [
    "df1_norm[\"added_at\"] = pd.to_datetime(df1_norm[\"added_at\"])"
   ]
  },
  {
   "cell_type": "code",
   "execution_count": 25,
   "metadata": {},
   "outputs": [],
   "source": [
    "df1_norm['released_at'] = pd.to_datetime(df1_norm['released_at'], format='%d %b %Y')"
   ]
  },
  {
   "cell_type": "code",
   "execution_count": 26,
   "metadata": {},
   "outputs": [
    {
     "data": {
      "text/html": [
       "<div>\n",
       "<style scoped>\n",
       "    .dataframe tbody tr th:only-of-type {\n",
       "        vertical-align: middle;\n",
       "    }\n",
       "\n",
       "    .dataframe tbody tr th {\n",
       "        vertical-align: top;\n",
       "    }\n",
       "\n",
       "    .dataframe thead th {\n",
       "        text-align: right;\n",
       "    }\n",
       "</style>\n",
       "<table border=\"1\" class=\"dataframe\">\n",
       "  <thead>\n",
       "    <tr style=\"text-align: right;\">\n",
       "      <th></th>\n",
       "      <th>title</th>\n",
       "      <th>type</th>\n",
       "      <th>rated</th>\n",
       "      <th>year</th>\n",
       "      <th>released_at</th>\n",
       "      <th>added_at</th>\n",
       "      <th>runtime</th>\n",
       "      <th>genre</th>\n",
       "      <th>director</th>\n",
       "      <th>writer</th>\n",
       "      <th>actors</th>\n",
       "      <th>language</th>\n",
       "      <th>country</th>\n",
       "      <th>awards</th>\n",
       "      <th>metascore</th>\n",
       "      <th>imdb_rating</th>\n",
       "      <th>imdb_votes</th>\n",
       "    </tr>\n",
       "    <tr>\n",
       "      <th>imdb_id</th>\n",
       "      <th></th>\n",
       "      <th></th>\n",
       "      <th></th>\n",
       "      <th></th>\n",
       "      <th></th>\n",
       "      <th></th>\n",
       "      <th></th>\n",
       "      <th></th>\n",
       "      <th></th>\n",
       "      <th></th>\n",
       "      <th></th>\n",
       "      <th></th>\n",
       "      <th></th>\n",
       "      <th></th>\n",
       "      <th></th>\n",
       "      <th></th>\n",
       "      <th></th>\n",
       "    </tr>\n",
       "  </thead>\n",
       "  <tbody>\n",
       "    <tr>\n",
       "      <th>tt0147800</th>\n",
       "      <td>10 Things I Hate About You</td>\n",
       "      <td>0</td>\n",
       "      <td>Pg-13</td>\n",
       "      <td>1999</td>\n",
       "      <td>1999-03-31</td>\n",
       "      <td>2019-11-12</td>\n",
       "      <td>97 min</td>\n",
       "      <td>Comedy, Drama, Romance</td>\n",
       "      <td>Gil Junger</td>\n",
       "      <td>Karen McCullah, Kirsten Smith</td>\n",
       "      <td>Heath Ledger, Julia Stiles, Joseph Gordon-Levi...</td>\n",
       "      <td>English, French</td>\n",
       "      <td>USA</td>\n",
       "      <td>2 wins &amp; 13 nominations.</td>\n",
       "      <td>70.0</td>\n",
       "      <td>7.3</td>\n",
       "      <td>283,945</td>\n",
       "    </tr>\n",
       "    <tr>\n",
       "      <th>tt7019028</th>\n",
       "      <td>101 Dalmatian Street</td>\n",
       "      <td>1</td>\n",
       "      <td>Unrated</td>\n",
       "      <td>2018–</td>\n",
       "      <td>2019-03-25</td>\n",
       "      <td>2020-02-28</td>\n",
       "      <td>NaN</td>\n",
       "      <td>Animation, Comedy, Family</td>\n",
       "      <td>NaN</td>\n",
       "      <td>NaN</td>\n",
       "      <td>Josh Brener, Michaela Dietz, Bert Davis, Abiga...</td>\n",
       "      <td>English</td>\n",
       "      <td>UK, USA, Canada</td>\n",
       "      <td>NaN</td>\n",
       "      <td>NaN</td>\n",
       "      <td>6.2</td>\n",
       "      <td>124</td>\n",
       "    </tr>\n",
       "    <tr>\n",
       "      <th>tt0115433</th>\n",
       "      <td>101 Dalmatians</td>\n",
       "      <td>0</td>\n",
       "      <td>G</td>\n",
       "      <td>1996</td>\n",
       "      <td>1996-11-27</td>\n",
       "      <td>2019-11-12</td>\n",
       "      <td>103 min</td>\n",
       "      <td>Adventure, Comedy, Crime, Family</td>\n",
       "      <td>Stephen Herek</td>\n",
       "      <td>Dodie Smith (novel), John Hughes (screenplay)</td>\n",
       "      <td>Glenn Close, Jeff Daniels, Joely Richardson, J...</td>\n",
       "      <td>English, Spanish</td>\n",
       "      <td>USA, UK</td>\n",
       "      <td>Nominated for 1 Golden Globe. Another 3 wins &amp;...</td>\n",
       "      <td>49.0</td>\n",
       "      <td>5.7</td>\n",
       "      <td>97,785</td>\n",
       "    </tr>\n",
       "    <tr>\n",
       "      <th>tt0324941</th>\n",
       "      <td>101 Dalmatians 2: Patch's London Adventure</td>\n",
       "      <td>0</td>\n",
       "      <td>G</td>\n",
       "      <td>2002</td>\n",
       "      <td>2003-01-21</td>\n",
       "      <td>2019-11-12</td>\n",
       "      <td>74 min</td>\n",
       "      <td>Animation, Adventure, Comedy, Family, Musical</td>\n",
       "      <td>Jim Kammerud, Brian Smith</td>\n",
       "      <td>Jim Kammerud (story), Dan Root (story), Garret...</td>\n",
       "      <td>Barry Bostwick, Jason Alexander, Martin Short,...</td>\n",
       "      <td>English</td>\n",
       "      <td>USA</td>\n",
       "      <td>5 wins &amp; 10 nominations.</td>\n",
       "      <td>NaN</td>\n",
       "      <td>5.8</td>\n",
       "      <td>7,434</td>\n",
       "    </tr>\n",
       "    <tr>\n",
       "      <th>tt0211181</th>\n",
       "      <td>102 Dalmatians</td>\n",
       "      <td>0</td>\n",
       "      <td>G</td>\n",
       "      <td>2000</td>\n",
       "      <td>2000-11-22</td>\n",
       "      <td>2019-11-12</td>\n",
       "      <td>100 min</td>\n",
       "      <td>Adventure, Comedy, Family</td>\n",
       "      <td>Kevin Lima</td>\n",
       "      <td>Dodie Smith (novel), Kristen Buckley (story), ...</td>\n",
       "      <td>Glenn Close, Gérard Depardieu, Ioan Gruffudd, ...</td>\n",
       "      <td>English</td>\n",
       "      <td>USA, UK</td>\n",
       "      <td>Nominated for 1 Oscar. Another 1 win &amp; 7 nomin...</td>\n",
       "      <td>35.0</td>\n",
       "      <td>4.9</td>\n",
       "      <td>33,444</td>\n",
       "    </tr>\n",
       "  </tbody>\n",
       "</table>\n",
       "</div>"
      ],
      "text/plain": [
       "                                                title  type    rated   year  \\\n",
       "imdb_id                                                                       \n",
       "tt0147800                  10 Things I Hate About You     0    Pg-13   1999   \n",
       "tt7019028                        101 Dalmatian Street     1  Unrated  2018–   \n",
       "tt0115433                              101 Dalmatians     0        G   1996   \n",
       "tt0324941  101 Dalmatians 2: Patch's London Adventure     0        G   2002   \n",
       "tt0211181                              102 Dalmatians     0        G   2000   \n",
       "\n",
       "          released_at   added_at  runtime  \\\n",
       "imdb_id                                     \n",
       "tt0147800  1999-03-31 2019-11-12   97 min   \n",
       "tt7019028  2019-03-25 2020-02-28      NaN   \n",
       "tt0115433  1996-11-27 2019-11-12  103 min   \n",
       "tt0324941  2003-01-21 2019-11-12   74 min   \n",
       "tt0211181  2000-11-22 2019-11-12  100 min   \n",
       "\n",
       "                                                   genre  \\\n",
       "imdb_id                                                    \n",
       "tt0147800                         Comedy, Drama, Romance   \n",
       "tt7019028                      Animation, Comedy, Family   \n",
       "tt0115433               Adventure, Comedy, Crime, Family   \n",
       "tt0324941  Animation, Adventure, Comedy, Family, Musical   \n",
       "tt0211181                      Adventure, Comedy, Family   \n",
       "\n",
       "                            director  \\\n",
       "imdb_id                                \n",
       "tt0147800                 Gil Junger   \n",
       "tt7019028                        NaN   \n",
       "tt0115433              Stephen Herek   \n",
       "tt0324941  Jim Kammerud, Brian Smith   \n",
       "tt0211181                 Kevin Lima   \n",
       "\n",
       "                                                      writer  \\\n",
       "imdb_id                                                        \n",
       "tt0147800                      Karen McCullah, Kirsten Smith   \n",
       "tt7019028                                                NaN   \n",
       "tt0115433      Dodie Smith (novel), John Hughes (screenplay)   \n",
       "tt0324941  Jim Kammerud (story), Dan Root (story), Garret...   \n",
       "tt0211181  Dodie Smith (novel), Kristen Buckley (story), ...   \n",
       "\n",
       "                                                      actors  \\\n",
       "imdb_id                                                        \n",
       "tt0147800  Heath Ledger, Julia Stiles, Joseph Gordon-Levi...   \n",
       "tt7019028  Josh Brener, Michaela Dietz, Bert Davis, Abiga...   \n",
       "tt0115433  Glenn Close, Jeff Daniels, Joely Richardson, J...   \n",
       "tt0324941  Barry Bostwick, Jason Alexander, Martin Short,...   \n",
       "tt0211181  Glenn Close, Gérard Depardieu, Ioan Gruffudd, ...   \n",
       "\n",
       "                   language          country  \\\n",
       "imdb_id                                        \n",
       "tt0147800   English, French              USA   \n",
       "tt7019028           English  UK, USA, Canada   \n",
       "tt0115433  English, Spanish          USA, UK   \n",
       "tt0324941           English              USA   \n",
       "tt0211181           English          USA, UK   \n",
       "\n",
       "                                                      awards  metascore  \\\n",
       "imdb_id                                                                   \n",
       "tt0147800                           2 wins & 13 nominations.       70.0   \n",
       "tt7019028                                                NaN        NaN   \n",
       "tt0115433  Nominated for 1 Golden Globe. Another 3 wins &...       49.0   \n",
       "tt0324941                           5 wins & 10 nominations.        NaN   \n",
       "tt0211181  Nominated for 1 Oscar. Another 1 win & 7 nomin...       35.0   \n",
       "\n",
       "           imdb_rating imdb_votes  \n",
       "imdb_id                            \n",
       "tt0147800          7.3    283,945  \n",
       "tt7019028          6.2        124  \n",
       "tt0115433          5.7     97,785  \n",
       "tt0324941          5.8      7,434  \n",
       "tt0211181          4.9     33,444  "
      ]
     },
     "execution_count": 26,
     "metadata": {},
     "output_type": "execute_result"
    }
   ],
   "source": [
    "df1_norm.head()"
   ]
  },
  {
   "cell_type": "markdown",
   "metadata": {},
   "source": [
    "Преобразование строковых данных в числовые в столбце runtime"
   ]
  },
  {
   "cell_type": "code",
   "execution_count": 28,
   "metadata": {},
   "outputs": [],
   "source": [
    "#df1_norm[\"runtime\"] = df1_norm[\"runtime\"].fillna(0)\n",
    "df1_norm = df1_norm.dropna(axis=0, subset=['runtime'])"
   ]
  },
  {
   "cell_type": "code",
   "execution_count": 29,
   "metadata": {},
   "outputs": [],
   "source": [
    "df1_norm['runtime'] = df1_norm['runtime'].str.replace('min','')\n",
    "df1_norm['runtime'] = df1_norm['runtime'].str.replace('1 h','60')"
   ]
  },
  {
   "cell_type": "code",
   "execution_count": 30,
   "metadata": {},
   "outputs": [],
   "source": [
    "df1_norm['runtime'] = df1_norm['runtime'].astype(int)"
   ]
  },
  {
   "cell_type": "code",
   "execution_count": 31,
   "metadata": {},
   "outputs": [
    {
     "data": {
      "text/plain": [
       "title            0\n",
       "type             0\n",
       "rated            0\n",
       "year             0\n",
       "released_at     15\n",
       "added_at         0\n",
       "runtime          0\n",
       "genre            3\n",
       "director       162\n",
       "writer         107\n",
       "actors          13\n",
       "language        19\n",
       "country         16\n",
       "awards         285\n",
       "metascore      547\n",
       "imdb_rating      7\n",
       "imdb_votes       7\n",
       "dtype: int64"
      ]
     },
     "execution_count": 31,
     "metadata": {},
     "output_type": "execute_result"
    }
   ],
   "source": [
    "df1_norm.isnull().sum()"
   ]
  },
  {
   "cell_type": "markdown",
   "metadata": {},
   "source": [
    "Удаление столбца metascore, так как больше 75% ячеек пустые"
   ]
  },
  {
   "cell_type": "code",
   "execution_count": 32,
   "metadata": {},
   "outputs": [],
   "source": [
    "df1_norm = df1_norm.drop(columns=['metascore'])"
   ]
  },
  {
   "cell_type": "code",
   "execution_count": 36,
   "metadata": {
    "scrolled": true
   },
   "outputs": [
    {
     "data": {
      "text/html": [
       "<div>\n",
       "<style scoped>\n",
       "    .dataframe tbody tr th:only-of-type {\n",
       "        vertical-align: middle;\n",
       "    }\n",
       "\n",
       "    .dataframe tbody tr th {\n",
       "        vertical-align: top;\n",
       "    }\n",
       "\n",
       "    .dataframe thead th {\n",
       "        text-align: right;\n",
       "    }\n",
       "</style>\n",
       "<table border=\"1\" class=\"dataframe\">\n",
       "  <thead>\n",
       "    <tr style=\"text-align: right;\">\n",
       "      <th></th>\n",
       "      <th>title</th>\n",
       "      <th>type</th>\n",
       "      <th>rated</th>\n",
       "      <th>year</th>\n",
       "      <th>released_at</th>\n",
       "      <th>added_at</th>\n",
       "      <th>runtime</th>\n",
       "      <th>genre</th>\n",
       "      <th>director</th>\n",
       "      <th>writer</th>\n",
       "      <th>actors</th>\n",
       "      <th>language</th>\n",
       "      <th>country</th>\n",
       "      <th>awards</th>\n",
       "      <th>imdb_rating</th>\n",
       "      <th>imdb_votes</th>\n",
       "    </tr>\n",
       "    <tr>\n",
       "      <th>imdb_id</th>\n",
       "      <th></th>\n",
       "      <th></th>\n",
       "      <th></th>\n",
       "      <th></th>\n",
       "      <th></th>\n",
       "      <th></th>\n",
       "      <th></th>\n",
       "      <th></th>\n",
       "      <th></th>\n",
       "      <th></th>\n",
       "      <th></th>\n",
       "      <th></th>\n",
       "      <th></th>\n",
       "      <th></th>\n",
       "      <th></th>\n",
       "      <th></th>\n",
       "    </tr>\n",
       "  </thead>\n",
       "  <tbody>\n",
       "    <tr>\n",
       "      <th>tt0147800</th>\n",
       "      <td>10 Things I Hate About You</td>\n",
       "      <td>0</td>\n",
       "      <td>Pg-13</td>\n",
       "      <td>1999</td>\n",
       "      <td>1999-03-31</td>\n",
       "      <td>2019-11-12</td>\n",
       "      <td>97</td>\n",
       "      <td>Comedy, Drama, Romance</td>\n",
       "      <td>Gil Junger</td>\n",
       "      <td>Karen McCullah, Kirsten Smith</td>\n",
       "      <td>Heath Ledger, Julia Stiles, Joseph Gordon-Levi...</td>\n",
       "      <td>English, French</td>\n",
       "      <td>USA</td>\n",
       "      <td>2 wins &amp; 13 nominations.</td>\n",
       "      <td>7.3</td>\n",
       "      <td>283,945</td>\n",
       "    </tr>\n",
       "    <tr>\n",
       "      <th>tt0115433</th>\n",
       "      <td>101 Dalmatians</td>\n",
       "      <td>0</td>\n",
       "      <td>G</td>\n",
       "      <td>1996</td>\n",
       "      <td>1996-11-27</td>\n",
       "      <td>2019-11-12</td>\n",
       "      <td>103</td>\n",
       "      <td>Adventure, Comedy, Crime, Family</td>\n",
       "      <td>Stephen Herek</td>\n",
       "      <td>Dodie Smith (novel), John Hughes (screenplay)</td>\n",
       "      <td>Glenn Close, Jeff Daniels, Joely Richardson, J...</td>\n",
       "      <td>English, Spanish</td>\n",
       "      <td>USA, UK</td>\n",
       "      <td>Nominated for 1 Golden Globe. Another 3 wins &amp;...</td>\n",
       "      <td>5.7</td>\n",
       "      <td>97,785</td>\n",
       "    </tr>\n",
       "    <tr>\n",
       "      <th>tt0324941</th>\n",
       "      <td>101 Dalmatians 2: Patch's London Adventure</td>\n",
       "      <td>0</td>\n",
       "      <td>G</td>\n",
       "      <td>2002</td>\n",
       "      <td>2003-01-21</td>\n",
       "      <td>2019-11-12</td>\n",
       "      <td>74</td>\n",
       "      <td>Animation, Adventure, Comedy, Family, Musical</td>\n",
       "      <td>Jim Kammerud, Brian Smith</td>\n",
       "      <td>Jim Kammerud (story), Dan Root (story), Garret...</td>\n",
       "      <td>Barry Bostwick, Jason Alexander, Martin Short,...</td>\n",
       "      <td>English</td>\n",
       "      <td>USA</td>\n",
       "      <td>5 wins &amp; 10 nominations.</td>\n",
       "      <td>5.8</td>\n",
       "      <td>7,434</td>\n",
       "    </tr>\n",
       "    <tr>\n",
       "      <th>tt0211181</th>\n",
       "      <td>102 Dalmatians</td>\n",
       "      <td>0</td>\n",
       "      <td>G</td>\n",
       "      <td>2000</td>\n",
       "      <td>2000-11-22</td>\n",
       "      <td>2019-11-12</td>\n",
       "      <td>100</td>\n",
       "      <td>Adventure, Comedy, Family</td>\n",
       "      <td>Kevin Lima</td>\n",
       "      <td>Dodie Smith (novel), Kristen Buckley (story), ...</td>\n",
       "      <td>Glenn Close, Gérard Depardieu, Ioan Gruffudd, ...</td>\n",
       "      <td>English</td>\n",
       "      <td>USA, UK</td>\n",
       "      <td>Nominated for 1 Oscar. Another 1 win &amp; 7 nomin...</td>\n",
       "      <td>4.9</td>\n",
       "      <td>33,444</td>\n",
       "    </tr>\n",
       "    <tr>\n",
       "      <th>tt1846442</th>\n",
       "      <td>12 Dates of Christmas</td>\n",
       "      <td>0</td>\n",
       "      <td>Pg</td>\n",
       "      <td>2011</td>\n",
       "      <td>2011-12-11</td>\n",
       "      <td>2019-11-12</td>\n",
       "      <td>90</td>\n",
       "      <td>Comedy, Fantasy, Romance</td>\n",
       "      <td>James Hayman</td>\n",
       "      <td>Aaron Mendelsohn (teleplay), Janet Brownell (t...</td>\n",
       "      <td>Laura Miyata, Vijay Mehta, Amy Smart, Audrey D...</td>\n",
       "      <td>English</td>\n",
       "      <td>USA</td>\n",
       "      <td>1 nomination.</td>\n",
       "      <td>6.3</td>\n",
       "      <td>4,933</td>\n",
       "    </tr>\n",
       "  </tbody>\n",
       "</table>\n",
       "</div>"
      ],
      "text/plain": [
       "                                                title  type  rated  year  \\\n",
       "imdb_id                                                                    \n",
       "tt0147800                  10 Things I Hate About You     0  Pg-13  1999   \n",
       "tt0115433                              101 Dalmatians     0      G  1996   \n",
       "tt0324941  101 Dalmatians 2: Patch's London Adventure     0      G  2002   \n",
       "tt0211181                              102 Dalmatians     0      G  2000   \n",
       "tt1846442                       12 Dates of Christmas     0     Pg  2011   \n",
       "\n",
       "          released_at   added_at  runtime  \\\n",
       "imdb_id                                     \n",
       "tt0147800  1999-03-31 2019-11-12       97   \n",
       "tt0115433  1996-11-27 2019-11-12      103   \n",
       "tt0324941  2003-01-21 2019-11-12       74   \n",
       "tt0211181  2000-11-22 2019-11-12      100   \n",
       "tt1846442  2011-12-11 2019-11-12       90   \n",
       "\n",
       "                                                   genre  \\\n",
       "imdb_id                                                    \n",
       "tt0147800                         Comedy, Drama, Romance   \n",
       "tt0115433               Adventure, Comedy, Crime, Family   \n",
       "tt0324941  Animation, Adventure, Comedy, Family, Musical   \n",
       "tt0211181                      Adventure, Comedy, Family   \n",
       "tt1846442                       Comedy, Fantasy, Romance   \n",
       "\n",
       "                            director  \\\n",
       "imdb_id                                \n",
       "tt0147800                 Gil Junger   \n",
       "tt0115433              Stephen Herek   \n",
       "tt0324941  Jim Kammerud, Brian Smith   \n",
       "tt0211181                 Kevin Lima   \n",
       "tt1846442               James Hayman   \n",
       "\n",
       "                                                      writer  \\\n",
       "imdb_id                                                        \n",
       "tt0147800                      Karen McCullah, Kirsten Smith   \n",
       "tt0115433      Dodie Smith (novel), John Hughes (screenplay)   \n",
       "tt0324941  Jim Kammerud (story), Dan Root (story), Garret...   \n",
       "tt0211181  Dodie Smith (novel), Kristen Buckley (story), ...   \n",
       "tt1846442  Aaron Mendelsohn (teleplay), Janet Brownell (t...   \n",
       "\n",
       "                                                      actors  \\\n",
       "imdb_id                                                        \n",
       "tt0147800  Heath Ledger, Julia Stiles, Joseph Gordon-Levi...   \n",
       "tt0115433  Glenn Close, Jeff Daniels, Joely Richardson, J...   \n",
       "tt0324941  Barry Bostwick, Jason Alexander, Martin Short,...   \n",
       "tt0211181  Glenn Close, Gérard Depardieu, Ioan Gruffudd, ...   \n",
       "tt1846442  Laura Miyata, Vijay Mehta, Amy Smart, Audrey D...   \n",
       "\n",
       "                   language  country  \\\n",
       "imdb_id                                \n",
       "tt0147800   English, French      USA   \n",
       "tt0115433  English, Spanish  USA, UK   \n",
       "tt0324941           English      USA   \n",
       "tt0211181           English  USA, UK   \n",
       "tt1846442           English      USA   \n",
       "\n",
       "                                                      awards  imdb_rating  \\\n",
       "imdb_id                                                                     \n",
       "tt0147800                           2 wins & 13 nominations.          7.3   \n",
       "tt0115433  Nominated for 1 Golden Globe. Another 3 wins &...          5.7   \n",
       "tt0324941                           5 wins & 10 nominations.          5.8   \n",
       "tt0211181  Nominated for 1 Oscar. Another 1 win & 7 nomin...          4.9   \n",
       "tt1846442                                      1 nomination.          6.3   \n",
       "\n",
       "          imdb_votes  \n",
       "imdb_id               \n",
       "tt0147800    283,945  \n",
       "tt0115433     97,785  \n",
       "tt0324941      7,434  \n",
       "tt0211181     33,444  \n",
       "tt1846442      4,933  "
      ]
     },
     "execution_count": 36,
     "metadata": {},
     "output_type": "execute_result"
    }
   ],
   "source": [
    "df1_norm.head()"
   ]
  },
  {
   "cell_type": "markdown",
   "metadata": {},
   "source": [
    "Работа со столбцом imdb_votes. Преобразование данных в числовой формат "
   ]
  },
  {
   "cell_type": "code",
   "execution_count": 37,
   "metadata": {},
   "outputs": [],
   "source": [
    "df1_norm['imdb_votes'] = df1_norm['imdb_votes'].str.replace(',','')\n",
    "df1_norm['imdb_votes'] = df1_norm['imdb_votes'].astype(float)"
   ]
  },
  {
   "cell_type": "code",
   "execution_count": 51,
   "metadata": {
    "scrolled": false
   },
   "outputs": [
    {
     "data": {
      "text/plain": [
       "title                  object\n",
       "type                    int64\n",
       "rated                  object\n",
       "year                    int32\n",
       "released_at    datetime64[ns]\n",
       "added_at       datetime64[ns]\n",
       "runtime                 int32\n",
       "genre                  object\n",
       "director               object\n",
       "writer                 object\n",
       "actors                 object\n",
       "language               object\n",
       "country                object\n",
       "awards                 object\n",
       "imdb_rating           float64\n",
       "imdb_votes            float64\n",
       "dtype: object"
      ]
     },
     "execution_count": 51,
     "metadata": {},
     "output_type": "execute_result"
    }
   ],
   "source": [
    "df1_norm.dtypes"
   ]
  },
  {
   "cell_type": "markdown",
   "metadata": {},
   "source": [
    "Преобразование столбца year. Замена дат, написанных через дефис, на год выпуска (т.к. есть сериалы, которые еще не до конца выпущены). Перевод в числовой формат"
   ]
  },
  {
   "cell_type": "code",
   "execution_count": 46,
   "metadata": {},
   "outputs": [],
   "source": [
    "df1_norm.year = df1_norm.year.str.extract('(\\d+)', expand=False)"
   ]
  },
  {
   "cell_type": "code",
   "execution_count": 49,
   "metadata": {
    "scrolled": true
   },
   "outputs": [],
   "source": [
    "df1_norm['year'] = df1_norm['year'].astype(int)"
   ]
  },
  {
   "cell_type": "code",
   "execution_count": 50,
   "metadata": {
    "scrolled": true
   },
   "outputs": [
    {
     "data": {
      "text/plain": [
       "array([1999, 1996, 2002, 2000, 2011, 1954, 1998, 1995, 1946, 1977, 2018,\n",
       "       2019, 1992, 1994, 1951, 2010, 2005, 1949, 1962, 1989, 2004, 1981,\n",
       "       2017, 2003, 2001, 2009, 1932, 1961, 1942, 2006, 1939, 1955, 1991,\n",
       "       1997, 1971, 2008, 2016, 1987, 2015, 1988, 2014, 1968, 1938, 1993,\n",
       "       2012, 1941, 2013, 1986, 1947, 1950, 2007, 1937, 1959, 1956, 2020,\n",
       "       1985, 1966, 1953, 1940, 1943, 1990, 1936, 1964, 1975, 1984, 1976,\n",
       "       1934, 1980, 1974, 1944, 1960, 1972, 1952, 1948, 1983, 1969, 1957,\n",
       "       1935, 1978, 1973, 1979, 1928, 1965, 1967, 1970, 1963, 1933, 1958,\n",
       "       1982])"
      ]
     },
     "execution_count": 50,
     "metadata": {},
     "output_type": "execute_result"
    }
   ],
   "source": [
    "df1_norm['year'].unique()"
   ]
  },
  {
   "cell_type": "code",
   "execution_count": null,
   "metadata": {},
   "outputs": [],
   "source": []
  }
 ],
 "metadata": {
  "kernelspec": {
   "display_name": "Python 3",
   "language": "python",
   "name": "python3"
  },
  "language_info": {
   "codemirror_mode": {
    "name": "ipython",
    "version": 3
   },
   "file_extension": ".py",
   "mimetype": "text/x-python",
   "name": "python",
   "nbconvert_exporter": "python",
   "pygments_lexer": "ipython3",
   "version": "3.8.3"
  }
 },
 "nbformat": 4,
 "nbformat_minor": 4
}
