{
 "cells": [
  {
   "cell_type": "markdown",
   "metadata": {},
   "source": [
    "# Описательная статистика найденного датасета"
   ]
  },
  {
   "cell_type": "markdown",
   "metadata": {},
   "source": [
    "Disney Plus Movies and TV Shows"
   ]
  },
  {
   "cell_type": "code",
   "execution_count": 1,
   "metadata": {},
   "outputs": [],
   "source": [
    "import pandas as pd\n",
    "import matplotlib.pyplot as plt"
   ]
  },
  {
   "cell_type": "code",
   "execution_count": 2,
   "metadata": {},
   "outputs": [],
   "source": [
    "df = pd.read_csv(\"disney_plus_shows.csv\", index_col='imdb_id')"
   ]
  },
  {
   "cell_type": "code",
   "execution_count": 3,
   "metadata": {},
   "outputs": [
    {
     "data": {
      "text/plain": [
       "(992, 18)"
      ]
     },
     "execution_count": 3,
     "metadata": {},
     "output_type": "execute_result"
    }
   ],
   "source": [
    "df.shape  #размер датафрейма"
   ]
  },
  {
   "cell_type": "code",
   "execution_count": 4,
   "metadata": {
    "scrolled": true
   },
   "outputs": [
    {
     "data": {
      "text/plain": [
       "['title',\n",
       " 'plot',\n",
       " 'type',\n",
       " 'rated',\n",
       " 'year',\n",
       " 'released_at',\n",
       " 'added_at',\n",
       " 'runtime',\n",
       " 'genre',\n",
       " 'director',\n",
       " 'writer',\n",
       " 'actors',\n",
       " 'language',\n",
       " 'country',\n",
       " 'awards',\n",
       " 'metascore',\n",
       " 'imdb_rating',\n",
       " 'imdb_votes']"
      ]
     },
     "execution_count": 4,
     "metadata": {},
     "output_type": "execute_result"
    }
   ],
   "source": [
    "cols = list(df.columns)\n",
    "#cols.remove('Unnamed: 0')\n",
    "cols"
   ]
  },
  {
   "cell_type": "code",
   "execution_count": 5,
   "metadata": {},
   "outputs": [
    {
     "data": {
      "text/plain": [
       "title           98\n",
       "plot           126\n",
       "type            98\n",
       "rated          250\n",
       "year            98\n",
       "released_at    118\n",
       "added_at         0\n",
       "runtime        154\n",
       "genre          107\n",
       "director       303\n",
       "writer         249\n",
       "actors         122\n",
       "language       127\n",
       "country        123\n",
       "awards         436\n",
       "metascore      700\n",
       "imdb_rating    113\n",
       "imdb_votes     113\n",
       "dtype: int64"
      ]
     },
     "execution_count": 5,
     "metadata": {},
     "output_type": "execute_result"
    }
   ],
   "source": [
    "df.isnull().sum()"
   ]
  },
  {
   "cell_type": "code",
   "execution_count": 6,
   "metadata": {},
   "outputs": [],
   "source": [
    "df_new = df.dropna(thresh=3)"
   ]
  },
  {
   "cell_type": "code",
   "execution_count": 7,
   "metadata": {},
   "outputs": [
    {
     "data": {
      "text/plain": [
       "title            0\n",
       "plot            28\n",
       "type             0\n",
       "rated          152\n",
       "year             0\n",
       "released_at     20\n",
       "added_at         0\n",
       "runtime         56\n",
       "genre            9\n",
       "director       205\n",
       "writer         151\n",
       "actors          24\n",
       "language        29\n",
       "country         25\n",
       "awards         338\n",
       "metascore      602\n",
       "imdb_rating     15\n",
       "imdb_votes      15\n",
       "dtype: int64"
      ]
     },
     "execution_count": 7,
     "metadata": {},
     "output_type": "execute_result"
    }
   ],
   "source": [
    "df_new.isnull().sum()  #количество пустых ячеек "
   ]
  },
  {
   "cell_type": "code",
   "execution_count": 8,
   "metadata": {},
   "outputs": [],
   "source": [
    "pd.options.display.float_format = '{:,.1f}'.format"
   ]
  },
  {
   "cell_type": "code",
   "execution_count": 9,
   "metadata": {},
   "outputs": [
    {
     "name": "stderr",
     "output_type": "stream",
     "text": [
      "<ipython-input-9-389758fdd2bb>:1: SettingWithCopyWarning: \n",
      "A value is trying to be set on a copy of a slice from a DataFrame.\n",
      "Try using .loc[row_indexer,col_indexer] = value instead\n",
      "\n",
      "See the caveats in the documentation: https://pandas.pydata.org/pandas-docs/stable/user_guide/indexing.html#returning-a-view-versus-a-copy\n",
      "  df_new['rated'] = df_new['rated'].str.replace('Approved','APPROVED')\n",
      "<ipython-input-9-389758fdd2bb>:2: SettingWithCopyWarning: \n",
      "A value is trying to be set on a copy of a slice from a DataFrame.\n",
      "Try using .loc[row_indexer,col_indexer] = value instead\n",
      "\n",
      "See the caveats in the documentation: https://pandas.pydata.org/pandas-docs/stable/user_guide/indexing.html#returning-a-view-versus-a-copy\n",
      "  df_new['rated'] = df_new['rated'].str.replace('nan','UNRATED')\n",
      "<ipython-input-9-389758fdd2bb>:3: SettingWithCopyWarning: \n",
      "A value is trying to be set on a copy of a slice from a DataFrame.\n",
      "Try using .loc[row_indexer,col_indexer] = value instead\n",
      "\n",
      "See the caveats in the documentation: https://pandas.pydata.org/pandas-docs/stable/user_guide/indexing.html#returning-a-view-versus-a-copy\n",
      "  df_new['rated'] = df_new['rated'].str.replace('Not Rated','UNRATED')\n",
      "<ipython-input-9-389758fdd2bb>:4: SettingWithCopyWarning: \n",
      "A value is trying to be set on a copy of a slice from a DataFrame.\n",
      "Try using .loc[row_indexer,col_indexer] = value instead\n",
      "\n",
      "See the caveats in the documentation: https://pandas.pydata.org/pandas-docs/stable/user_guide/indexing.html#returning-a-view-versus-a-copy\n",
      "  df_new['rated'] = df_new['rated'].str.replace('Unrated','UNRATED')\n",
      "<ipython-input-9-389758fdd2bb>:5: SettingWithCopyWarning: \n",
      "A value is trying to be set on a copy of a slice from a DataFrame.\n",
      "Try using .loc[row_indexer,col_indexer] = value instead\n",
      "\n",
      "See the caveats in the documentation: https://pandas.pydata.org/pandas-docs/stable/user_guide/indexing.html#returning-a-view-versus-a-copy\n",
      "  df_new['rated'] = df_new['rated'].str.replace('Passed','PASSED')\n",
      "<ipython-input-9-389758fdd2bb>:6: SettingWithCopyWarning: \n",
      "A value is trying to be set on a copy of a slice from a DataFrame.\n",
      "Try using .loc[row_indexer,col_indexer] = value instead\n",
      "\n",
      "See the caveats in the documentation: https://pandas.pydata.org/pandas-docs/stable/user_guide/indexing.html#returning-a-view-versus-a-copy\n",
      "  df_new['rated'] = df_new['rated'].str.replace('NOT RATED','UNRATED')\n"
     ]
    }
   ],
   "source": [
    "df_new['rated'] = df_new['rated'].str.replace('Approved','APPROVED')\n",
    "df_new['rated'] = df_new['rated'].str.replace('nan','UNRATED')\n",
    "df_new['rated'] = df_new['rated'].str.replace('Not Rated','UNRATED')\n",
    "df_new['rated'] = df_new['rated'].str.replace('Unrated','UNRATED')\n",
    "df_new['rated'] = df_new['rated'].str.replace('Passed','PASSED')\n",
    "df_new['rated'] = df_new['rated'].str.replace('NOT RATED','UNRATED')"
   ]
  },
  {
   "cell_type": "code",
   "execution_count": 10,
   "metadata": {
    "scrolled": true
   },
   "outputs": [
    {
     "name": "stderr",
     "output_type": "stream",
     "text": [
      "<ipython-input-10-ca3839905c8e>:1: SettingWithCopyWarning: \n",
      "A value is trying to be set on a copy of a slice from a DataFrame.\n",
      "Try using .loc[row_indexer,col_indexer] = value instead\n",
      "\n",
      "See the caveats in the documentation: https://pandas.pydata.org/pandas-docs/stable/user_guide/indexing.html#returning-a-view-versus-a-copy\n",
      "  df_new['imdb_votes'] = df_new['imdb_votes'].str.replace(',','')\n",
      "<ipython-input-10-ca3839905c8e>:2: SettingWithCopyWarning: \n",
      "A value is trying to be set on a copy of a slice from a DataFrame.\n",
      "Try using .loc[row_indexer,col_indexer] = value instead\n",
      "\n",
      "See the caveats in the documentation: https://pandas.pydata.org/pandas-docs/stable/user_guide/indexing.html#returning-a-view-versus-a-copy\n",
      "  df_new['imdb_votes'] = df_new['imdb_votes'].astype(float)\n"
     ]
    }
   ],
   "source": [
    "df_new['imdb_votes'] = df_new['imdb_votes'].str.replace(',','')\n",
    "df_new['imdb_votes'] = df_new['imdb_votes'].astype(float)"
   ]
  },
  {
   "cell_type": "code",
   "execution_count": 11,
   "metadata": {},
   "outputs": [],
   "source": [
    "nom_cols_data = [{name: df_new[col].to_list().count(name) for name in df_new[col].unique()}\n",
    "                for col in cols\n",
    "                if df_new[col].dtype == \"object\"]"
   ]
  },
  {
   "cell_type": "markdown",
   "metadata": {},
   "source": [
    "Числовые значения сейчас присутствуют только в двух столбцах (рейтинги согласно Metacritic и IMDb)"
   ]
  },
  {
   "cell_type": "code",
   "execution_count": 12,
   "metadata": {},
   "outputs": [],
   "source": [
    "metascore_stat = {\"min\": df_new[\"metascore\"].min(),\n",
    "                  \"max\": df_new[\"metascore\"].max(),\n",
    "                  \"mean\": df_new[\"metascore\"].mean(),\n",
    "                  \"median\": df_new[\"metascore\"].median(),\n",
    "                  \"mode\": df_new[\"metascore\"].mode().to_list(),\n",
    "                  \"var\": df_new[\"metascore\"].var(ddof=0),\n",
    "                  \"std\": df_new[\"metascore\"].std(ddof=0),\n",
    "                  \"range\": df_new[\"metascore\"].max() - df_new[\"metascore\"].min(),\n",
    "                  \"interquartile_range\": df_new[\"metascore\"].quantile(0.75) - df_new[\"metascore\"].quantile(0.25),\n",
    "                  \"skew\": df_new[\"metascore\"].skew()\n",
    "                 }"
   ]
  },
  {
   "cell_type": "code",
   "execution_count": 13,
   "metadata": {},
   "outputs": [
    {
     "data": {
      "text/plain": [
       "{'min': 19.0,\n",
       " 'max': 99.0,\n",
       " 'mean': 62.06164383561644,\n",
       " 'median': 61.0,\n",
       " 'mode': [74.0],\n",
       " 'var': 248.04414524300995,\n",
       " 'std': 15.749417298522824,\n",
       " 'range': 80.0,\n",
       " 'interquartile_range': 22.0,\n",
       " 'skew': 0.04503836668972144}"
      ]
     },
     "execution_count": 13,
     "metadata": {},
     "output_type": "execute_result"
    }
   ],
   "source": [
    "metascore_stat"
   ]
  },
  {
   "cell_type": "code",
   "execution_count": 14,
   "metadata": {},
   "outputs": [],
   "source": [
    "imdb_rating_stat = {\"min\": df_new[\"imdb_rating\"].min(),\n",
    "                  \"max\": df_new[\"imdb_rating\"].max(),\n",
    "                  \"mean\": df_new[\"imdb_rating\"].mean(),\n",
    "                  \"median\": df_new[\"imdb_rating\"].median(),\n",
    "                  \"mode\": df_new[\"imdb_rating\"].mode().to_list(),\n",
    "                  \"var\": df_new[\"imdb_rating\"].var(ddof=0),\n",
    "                  \"std\": df_new[\"imdb_rating\"].std(ddof=0),\n",
    "                  \"range\": df_new[\"imdb_rating\"].max() - df_new[\"imdb_rating\"].min(),\n",
    "                  \"interquartile_range\": df_new[\"imdb_rating\"].quantile(0.75) - df_new[\"imdb_rating\"].quantile(0.25),\n",
    "                  \"skew\": df_new[\"imdb_rating\"].skew()\n",
    "                 }"
   ]
  },
  {
   "cell_type": "code",
   "execution_count": 15,
   "metadata": {},
   "outputs": [
    {
     "data": {
      "text/plain": [
       "{'min': 1.5,\n",
       " 'max': 9.7,\n",
       " 'mean': 6.656427758816838,\n",
       " 'median': 6.7,\n",
       " 'mode': [7.1],\n",
       " 'var': 1.039933086646968,\n",
       " 'std': 1.0197710952203773,\n",
       " 'range': 8.2,\n",
       " 'interquartile_range': 1.3000000000000007,\n",
       " 'skew': -0.5895726517970485}"
      ]
     },
     "execution_count": 15,
     "metadata": {},
     "output_type": "execute_result"
    }
   ],
   "source": [
    "imdb_rating_stat"
   ]
  },
  {
   "cell_type": "code",
   "execution_count": 16,
   "metadata": {},
   "outputs": [
    {
     "name": "stdout",
     "output_type": "stream",
     "text": [
      "680\n",
      "76.0626398210291\n"
     ]
    },
    {
     "data": {
      "text/html": [
       "<div>\n",
       "<style scoped>\n",
       "    .dataframe tbody tr th:only-of-type {\n",
       "        vertical-align: middle;\n",
       "    }\n",
       "\n",
       "    .dataframe tbody tr th {\n",
       "        vertical-align: top;\n",
       "    }\n",
       "\n",
       "    .dataframe thead th {\n",
       "        text-align: right;\n",
       "    }\n",
       "</style>\n",
       "<table border=\"1\" class=\"dataframe\">\n",
       "  <thead>\n",
       "    <tr style=\"text-align: right;\">\n",
       "      <th></th>\n",
       "      <th>title</th>\n",
       "      <th>plot</th>\n",
       "      <th>type</th>\n",
       "      <th>rated</th>\n",
       "      <th>year</th>\n",
       "      <th>released_at</th>\n",
       "      <th>added_at</th>\n",
       "      <th>runtime</th>\n",
       "      <th>genre</th>\n",
       "      <th>director</th>\n",
       "      <th>writer</th>\n",
       "      <th>actors</th>\n",
       "      <th>language</th>\n",
       "      <th>country</th>\n",
       "      <th>awards</th>\n",
       "      <th>metascore</th>\n",
       "      <th>imdb_rating</th>\n",
       "      <th>imdb_votes</th>\n",
       "    </tr>\n",
       "    <tr>\n",
       "      <th>imdb_id</th>\n",
       "      <th></th>\n",
       "      <th></th>\n",
       "      <th></th>\n",
       "      <th></th>\n",
       "      <th></th>\n",
       "      <th></th>\n",
       "      <th></th>\n",
       "      <th></th>\n",
       "      <th></th>\n",
       "      <th></th>\n",
       "      <th></th>\n",
       "      <th></th>\n",
       "      <th></th>\n",
       "      <th></th>\n",
       "      <th></th>\n",
       "      <th></th>\n",
       "      <th></th>\n",
       "      <th></th>\n",
       "    </tr>\n",
       "  </thead>\n",
       "  <tbody>\n",
       "    <tr>\n",
       "      <th>tt0147800</th>\n",
       "      <td>10 Things I Hate About You</td>\n",
       "      <td>A pretty, popular teenager can't go out on a d...</td>\n",
       "      <td>movie</td>\n",
       "      <td>PG-13</td>\n",
       "      <td>1999</td>\n",
       "      <td>31 Mar 1999</td>\n",
       "      <td>November 12, 2019</td>\n",
       "      <td>97 min</td>\n",
       "      <td>Comedy, Drama, Romance</td>\n",
       "      <td>Gil Junger</td>\n",
       "      <td>Karen McCullah, Kirsten Smith</td>\n",
       "      <td>Heath Ledger, Julia Stiles, Joseph Gordon-Levi...</td>\n",
       "      <td>English, French</td>\n",
       "      <td>USA</td>\n",
       "      <td>2 wins &amp; 13 nominations.</td>\n",
       "      <td>70.0</td>\n",
       "      <td>7.3</td>\n",
       "      <td>283,945.0</td>\n",
       "    </tr>\n",
       "    <tr>\n",
       "      <th>tt0115433</th>\n",
       "      <td>101 Dalmatians</td>\n",
       "      <td>An evil high-fashion designer plots to steal D...</td>\n",
       "      <td>movie</td>\n",
       "      <td>G</td>\n",
       "      <td>1996</td>\n",
       "      <td>27 Nov 1996</td>\n",
       "      <td>November 12, 2019</td>\n",
       "      <td>103 min</td>\n",
       "      <td>Adventure, Comedy, Crime, Family</td>\n",
       "      <td>Stephen Herek</td>\n",
       "      <td>Dodie Smith (novel), John Hughes (screenplay)</td>\n",
       "      <td>Glenn Close, Jeff Daniels, Joely Richardson, J...</td>\n",
       "      <td>English, Spanish</td>\n",
       "      <td>USA, UK</td>\n",
       "      <td>Nominated for 1 Golden Globe. Another 3 wins &amp;...</td>\n",
       "      <td>49.0</td>\n",
       "      <td>5.7</td>\n",
       "      <td>97,785.0</td>\n",
       "    </tr>\n",
       "    <tr>\n",
       "      <th>tt0324941</th>\n",
       "      <td>101 Dalmatians 2: Patch's London Adventure</td>\n",
       "      <td>Being one of 101 takes its toll on Patch, who ...</td>\n",
       "      <td>movie</td>\n",
       "      <td>G</td>\n",
       "      <td>2002</td>\n",
       "      <td>21 Jan 2003</td>\n",
       "      <td>November 12, 2019</td>\n",
       "      <td>74 min</td>\n",
       "      <td>Animation, Adventure, Comedy, Family, Musical</td>\n",
       "      <td>Jim Kammerud, Brian Smith</td>\n",
       "      <td>Jim Kammerud (story), Dan Root (story), Garret...</td>\n",
       "      <td>Barry Bostwick, Jason Alexander, Martin Short,...</td>\n",
       "      <td>English</td>\n",
       "      <td>USA</td>\n",
       "      <td>5 wins &amp; 10 nominations.</td>\n",
       "      <td>NaN</td>\n",
       "      <td>5.8</td>\n",
       "      <td>7,434.0</td>\n",
       "    </tr>\n",
       "    <tr>\n",
       "      <th>tt0211181</th>\n",
       "      <td>102 Dalmatians</td>\n",
       "      <td>Cruella DeVil gets out of prison and goes afte...</td>\n",
       "      <td>movie</td>\n",
       "      <td>G</td>\n",
       "      <td>2000</td>\n",
       "      <td>22 Nov 2000</td>\n",
       "      <td>November 12, 2019</td>\n",
       "      <td>100 min</td>\n",
       "      <td>Adventure, Comedy, Family</td>\n",
       "      <td>Kevin Lima</td>\n",
       "      <td>Dodie Smith (novel), Kristen Buckley (story), ...</td>\n",
       "      <td>Glenn Close, Gérard Depardieu, Ioan Gruffudd, ...</td>\n",
       "      <td>English</td>\n",
       "      <td>USA, UK</td>\n",
       "      <td>Nominated for 1 Oscar. Another 1 win &amp; 7 nomin...</td>\n",
       "      <td>35.0</td>\n",
       "      <td>4.9</td>\n",
       "      <td>33,444.0</td>\n",
       "    </tr>\n",
       "    <tr>\n",
       "      <th>tt1846442</th>\n",
       "      <td>12 Dates of Christmas</td>\n",
       "      <td>A story that follows Kate, a young woman who a...</td>\n",
       "      <td>movie</td>\n",
       "      <td>PG</td>\n",
       "      <td>2011</td>\n",
       "      <td>11 Dec 2011</td>\n",
       "      <td>November 12, 2019</td>\n",
       "      <td>90 min</td>\n",
       "      <td>Comedy, Fantasy, Romance</td>\n",
       "      <td>James Hayman</td>\n",
       "      <td>Aaron Mendelsohn (teleplay), Janet Brownell (t...</td>\n",
       "      <td>Laura Miyata, Vijay Mehta, Amy Smart, Audrey D...</td>\n",
       "      <td>English</td>\n",
       "      <td>USA</td>\n",
       "      <td>1 nomination.</td>\n",
       "      <td>NaN</td>\n",
       "      <td>6.3</td>\n",
       "      <td>4,933.0</td>\n",
       "    </tr>\n",
       "  </tbody>\n",
       "</table>\n",
       "</div>"
      ],
      "text/plain": [
       "                                                title  \\\n",
       "imdb_id                                                 \n",
       "tt0147800                  10 Things I Hate About You   \n",
       "tt0115433                              101 Dalmatians   \n",
       "tt0324941  101 Dalmatians 2: Patch's London Adventure   \n",
       "tt0211181                              102 Dalmatians   \n",
       "tt1846442                       12 Dates of Christmas   \n",
       "\n",
       "                                                        plot   type  rated  \\\n",
       "imdb_id                                                                      \n",
       "tt0147800  A pretty, popular teenager can't go out on a d...  movie  PG-13   \n",
       "tt0115433  An evil high-fashion designer plots to steal D...  movie      G   \n",
       "tt0324941  Being one of 101 takes its toll on Patch, who ...  movie      G   \n",
       "tt0211181  Cruella DeVil gets out of prison and goes afte...  movie      G   \n",
       "tt1846442  A story that follows Kate, a young woman who a...  movie     PG   \n",
       "\n",
       "           year  released_at           added_at  runtime  \\\n",
       "imdb_id                                                    \n",
       "tt0147800  1999  31 Mar 1999  November 12, 2019   97 min   \n",
       "tt0115433  1996  27 Nov 1996  November 12, 2019  103 min   \n",
       "tt0324941  2002  21 Jan 2003  November 12, 2019   74 min   \n",
       "tt0211181  2000  22 Nov 2000  November 12, 2019  100 min   \n",
       "tt1846442  2011  11 Dec 2011  November 12, 2019   90 min   \n",
       "\n",
       "                                                   genre  \\\n",
       "imdb_id                                                    \n",
       "tt0147800                         Comedy, Drama, Romance   \n",
       "tt0115433               Adventure, Comedy, Crime, Family   \n",
       "tt0324941  Animation, Adventure, Comedy, Family, Musical   \n",
       "tt0211181                      Adventure, Comedy, Family   \n",
       "tt1846442                       Comedy, Fantasy, Romance   \n",
       "\n",
       "                            director  \\\n",
       "imdb_id                                \n",
       "tt0147800                 Gil Junger   \n",
       "tt0115433              Stephen Herek   \n",
       "tt0324941  Jim Kammerud, Brian Smith   \n",
       "tt0211181                 Kevin Lima   \n",
       "tt1846442               James Hayman   \n",
       "\n",
       "                                                      writer  \\\n",
       "imdb_id                                                        \n",
       "tt0147800                      Karen McCullah, Kirsten Smith   \n",
       "tt0115433      Dodie Smith (novel), John Hughes (screenplay)   \n",
       "tt0324941  Jim Kammerud (story), Dan Root (story), Garret...   \n",
       "tt0211181  Dodie Smith (novel), Kristen Buckley (story), ...   \n",
       "tt1846442  Aaron Mendelsohn (teleplay), Janet Brownell (t...   \n",
       "\n",
       "                                                      actors  \\\n",
       "imdb_id                                                        \n",
       "tt0147800  Heath Ledger, Julia Stiles, Joseph Gordon-Levi...   \n",
       "tt0115433  Glenn Close, Jeff Daniels, Joely Richardson, J...   \n",
       "tt0324941  Barry Bostwick, Jason Alexander, Martin Short,...   \n",
       "tt0211181  Glenn Close, Gérard Depardieu, Ioan Gruffudd, ...   \n",
       "tt1846442  Laura Miyata, Vijay Mehta, Amy Smart, Audrey D...   \n",
       "\n",
       "                   language  country  \\\n",
       "imdb_id                                \n",
       "tt0147800   English, French      USA   \n",
       "tt0115433  English, Spanish  USA, UK   \n",
       "tt0324941           English      USA   \n",
       "tt0211181           English  USA, UK   \n",
       "tt1846442           English      USA   \n",
       "\n",
       "                                                      awards  metascore  \\\n",
       "imdb_id                                                                   \n",
       "tt0147800                           2 wins & 13 nominations.       70.0   \n",
       "tt0115433  Nominated for 1 Golden Globe. Another 3 wins &...       49.0   \n",
       "tt0324941                           5 wins & 10 nominations.        NaN   \n",
       "tt0211181  Nominated for 1 Oscar. Another 1 win & 7 nomin...       35.0   \n",
       "tt1846442                                      1 nomination.        NaN   \n",
       "\n",
       "           imdb_rating  imdb_votes  \n",
       "imdb_id                             \n",
       "tt0147800          7.3   283,945.0  \n",
       "tt0115433          5.7    97,785.0  \n",
       "tt0324941          5.8     7,434.0  \n",
       "tt0211181          4.9    33,444.0  \n",
       "tt1846442          6.3     4,933.0  "
      ]
     },
     "execution_count": 16,
     "metadata": {},
     "output_type": "execute_result"
    }
   ],
   "source": [
    "movie_df = df_new.loc[df_new[\"type\"] == \"movie\"]  #датафрейм с фильмами\n",
    "m_num = movie_df.shape[0]\n",
    "m_persent = m_num / df_new.shape[0] * 100\n",
    "print(m_num, m_persent, sep='\\n')\n",
    "movie_df.head()"
   ]
  },
  {
   "cell_type": "code",
   "execution_count": 17,
   "metadata": {
    "scrolled": true
   },
   "outputs": [
    {
     "name": "stdout",
     "output_type": "stream",
     "text": [
      "191\n",
      "21.364653243847876\n"
     ]
    },
    {
     "data": {
      "text/html": [
       "<div>\n",
       "<style scoped>\n",
       "    .dataframe tbody tr th:only-of-type {\n",
       "        vertical-align: middle;\n",
       "    }\n",
       "\n",
       "    .dataframe tbody tr th {\n",
       "        vertical-align: top;\n",
       "    }\n",
       "\n",
       "    .dataframe thead th {\n",
       "        text-align: right;\n",
       "    }\n",
       "</style>\n",
       "<table border=\"1\" class=\"dataframe\">\n",
       "  <thead>\n",
       "    <tr style=\"text-align: right;\">\n",
       "      <th></th>\n",
       "      <th>title</th>\n",
       "      <th>plot</th>\n",
       "      <th>type</th>\n",
       "      <th>rated</th>\n",
       "      <th>year</th>\n",
       "      <th>released_at</th>\n",
       "      <th>added_at</th>\n",
       "      <th>runtime</th>\n",
       "      <th>genre</th>\n",
       "      <th>director</th>\n",
       "      <th>writer</th>\n",
       "      <th>actors</th>\n",
       "      <th>language</th>\n",
       "      <th>country</th>\n",
       "      <th>awards</th>\n",
       "      <th>metascore</th>\n",
       "      <th>imdb_rating</th>\n",
       "      <th>imdb_votes</th>\n",
       "    </tr>\n",
       "    <tr>\n",
       "      <th>imdb_id</th>\n",
       "      <th></th>\n",
       "      <th></th>\n",
       "      <th></th>\n",
       "      <th></th>\n",
       "      <th></th>\n",
       "      <th></th>\n",
       "      <th></th>\n",
       "      <th></th>\n",
       "      <th></th>\n",
       "      <th></th>\n",
       "      <th></th>\n",
       "      <th></th>\n",
       "      <th></th>\n",
       "      <th></th>\n",
       "      <th></th>\n",
       "      <th></th>\n",
       "      <th></th>\n",
       "      <th></th>\n",
       "    </tr>\n",
       "  </thead>\n",
       "  <tbody>\n",
       "    <tr>\n",
       "      <th>tt7019028</th>\n",
       "      <td>101 Dalmatian Street</td>\n",
       "      <td>This series follows the lives of Delilah and D...</td>\n",
       "      <td>series</td>\n",
       "      <td>NaN</td>\n",
       "      <td>2018–</td>\n",
       "      <td>25 Mar 2019</td>\n",
       "      <td>February 28, 2020</td>\n",
       "      <td>NaN</td>\n",
       "      <td>Animation, Comedy, Family</td>\n",
       "      <td>NaN</td>\n",
       "      <td>NaN</td>\n",
       "      <td>Josh Brener, Michaela Dietz, Bert Davis, Abiga...</td>\n",
       "      <td>English</td>\n",
       "      <td>UK, USA, Canada</td>\n",
       "      <td>NaN</td>\n",
       "      <td>NaN</td>\n",
       "      <td>6.2</td>\n",
       "      <td>124.0</td>\n",
       "    </tr>\n",
       "    <tr>\n",
       "      <th>tt0098740</th>\n",
       "      <td>America's Funniest Home Videos</td>\n",
       "      <td>Viewers from around America send in home video...</td>\n",
       "      <td>series</td>\n",
       "      <td>TV-PG</td>\n",
       "      <td>1989–</td>\n",
       "      <td>26 Nov 1989</td>\n",
       "      <td>April 24, 2020</td>\n",
       "      <td>30 min</td>\n",
       "      <td>Comedy, Family, Reality-TV</td>\n",
       "      <td>NaN</td>\n",
       "      <td>NaN</td>\n",
       "      <td>Jess Harnell, Tom Bergeron, Bob Saget, Ernie A...</td>\n",
       "      <td>English</td>\n",
       "      <td>USA</td>\n",
       "      <td>4 wins &amp; 6 nominations.</td>\n",
       "      <td>NaN</td>\n",
       "      <td>6.2</td>\n",
       "      <td>4,652.0</td>\n",
       "    </tr>\n",
       "    <tr>\n",
       "      <th>tt4622802</th>\n",
       "      <td>America's National Parks</td>\n",
       "      <td>Series exploring the incredible wildlife of Am...</td>\n",
       "      <td>series</td>\n",
       "      <td>TV-G</td>\n",
       "      <td>2015–</td>\n",
       "      <td>06 Dec 2015</td>\n",
       "      <td>January 15, 2020</td>\n",
       "      <td>NaN</td>\n",
       "      <td>Documentary</td>\n",
       "      <td>NaN</td>\n",
       "      <td>NaN</td>\n",
       "      <td>NaN</td>\n",
       "      <td>English</td>\n",
       "      <td>USA</td>\n",
       "      <td>NaN</td>\n",
       "      <td>NaN</td>\n",
       "      <td>7.9</td>\n",
       "      <td>73.0</td>\n",
       "    </tr>\n",
       "    <tr>\n",
       "      <th>tt5195114</th>\n",
       "      <td>Andi Mack</td>\n",
       "      <td>A contemporary coming-of-age story about a gir...</td>\n",
       "      <td>series</td>\n",
       "      <td>TV-G</td>\n",
       "      <td>2017–2019</td>\n",
       "      <td>10 Mar 2017</td>\n",
       "      <td>November 12, 2019</td>\n",
       "      <td>25 min</td>\n",
       "      <td>Comedy, Family</td>\n",
       "      <td>NaN</td>\n",
       "      <td>Terri Minsky</td>\n",
       "      <td>Peyton Elizabeth Lee, Joshua Rush, Sofia Wylie...</td>\n",
       "      <td>English</td>\n",
       "      <td>USA</td>\n",
       "      <td>3 wins &amp; 6 nominations.</td>\n",
       "      <td>NaN</td>\n",
       "      <td>7.3</td>\n",
       "      <td>1,723.0</td>\n",
       "    </tr>\n",
       "    <tr>\n",
       "      <th>tt1830491</th>\n",
       "      <td>Austin &amp; Ally</td>\n",
       "      <td>Following the lives of Austin, an aspiring con...</td>\n",
       "      <td>series</td>\n",
       "      <td>TV-G</td>\n",
       "      <td>2011–2016</td>\n",
       "      <td>02 Dec 2011</td>\n",
       "      <td>January 1, 2020</td>\n",
       "      <td>30 min</td>\n",
       "      <td>Comedy, Family, Music</td>\n",
       "      <td>NaN</td>\n",
       "      <td>Kevin Kopelow, Heath Seifert</td>\n",
       "      <td>Ross Lynch, Laura Marano, Raini Rodriguez, Cal...</td>\n",
       "      <td>English</td>\n",
       "      <td>USA</td>\n",
       "      <td>10 wins &amp; 14 nominations.</td>\n",
       "      <td>NaN</td>\n",
       "      <td>5.9</td>\n",
       "      <td>8,666.0</td>\n",
       "    </tr>\n",
       "  </tbody>\n",
       "</table>\n",
       "</div>"
      ],
      "text/plain": [
       "                                    title  \\\n",
       "imdb_id                                     \n",
       "tt7019028            101 Dalmatian Street   \n",
       "tt0098740  America's Funniest Home Videos   \n",
       "tt4622802        America's National Parks   \n",
       "tt5195114                       Andi Mack   \n",
       "tt1830491                   Austin & Ally   \n",
       "\n",
       "                                                        plot    type  rated  \\\n",
       "imdb_id                                                                       \n",
       "tt7019028  This series follows the lives of Delilah and D...  series    NaN   \n",
       "tt0098740  Viewers from around America send in home video...  series  TV-PG   \n",
       "tt4622802  Series exploring the incredible wildlife of Am...  series   TV-G   \n",
       "tt5195114  A contemporary coming-of-age story about a gir...  series   TV-G   \n",
       "tt1830491  Following the lives of Austin, an aspiring con...  series   TV-G   \n",
       "\n",
       "                year  released_at           added_at runtime  \\\n",
       "imdb_id                                                        \n",
       "tt7019028      2018–  25 Mar 2019  February 28, 2020     NaN   \n",
       "tt0098740      1989–  26 Nov 1989     April 24, 2020  30 min   \n",
       "tt4622802      2015–  06 Dec 2015   January 15, 2020     NaN   \n",
       "tt5195114  2017–2019  10 Mar 2017  November 12, 2019  25 min   \n",
       "tt1830491  2011–2016  02 Dec 2011    January 1, 2020  30 min   \n",
       "\n",
       "                                genre director                        writer  \\\n",
       "imdb_id                                                                        \n",
       "tt7019028   Animation, Comedy, Family      NaN                           NaN   \n",
       "tt0098740  Comedy, Family, Reality-TV      NaN                           NaN   \n",
       "tt4622802                 Documentary      NaN                           NaN   \n",
       "tt5195114              Comedy, Family      NaN                  Terri Minsky   \n",
       "tt1830491       Comedy, Family, Music      NaN  Kevin Kopelow, Heath Seifert   \n",
       "\n",
       "                                                      actors language  \\\n",
       "imdb_id                                                                 \n",
       "tt7019028  Josh Brener, Michaela Dietz, Bert Davis, Abiga...  English   \n",
       "tt0098740  Jess Harnell, Tom Bergeron, Bob Saget, Ernie A...  English   \n",
       "tt4622802                                                NaN  English   \n",
       "tt5195114  Peyton Elizabeth Lee, Joshua Rush, Sofia Wylie...  English   \n",
       "tt1830491  Ross Lynch, Laura Marano, Raini Rodriguez, Cal...  English   \n",
       "\n",
       "                   country                     awards  metascore  imdb_rating  \\\n",
       "imdb_id                                                                         \n",
       "tt7019028  UK, USA, Canada                        NaN        NaN          6.2   \n",
       "tt0098740              USA    4 wins & 6 nominations.        NaN          6.2   \n",
       "tt4622802              USA                        NaN        NaN          7.9   \n",
       "tt5195114              USA    3 wins & 6 nominations.        NaN          7.3   \n",
       "tt1830491              USA  10 wins & 14 nominations.        NaN          5.9   \n",
       "\n",
       "           imdb_votes  \n",
       "imdb_id                \n",
       "tt7019028       124.0  \n",
       "tt0098740     4,652.0  \n",
       "tt4622802        73.0  \n",
       "tt5195114     1,723.0  \n",
       "tt1830491     8,666.0  "
      ]
     },
     "execution_count": 17,
     "metadata": {},
     "output_type": "execute_result"
    }
   ],
   "source": [
    "series_df = df_new.loc[df_new[\"type\"] == \"series\"]  #датафрейм с сериалами\n",
    "s_num = series_df.shape[0]\n",
    "s_persent = s_num / df_new.shape[0] * 100\n",
    "print(s_num, s_persent, sep='\\n')\n",
    "series_df.head()"
   ]
  },
  {
   "cell_type": "markdown",
   "metadata": {},
   "source": [
    "Круговая диаграмма распределения фильмов и сериалов на сервисе Disney+"
   ]
  },
  {
   "cell_type": "code",
   "execution_count": 18,
   "metadata": {},
   "outputs": [
    {
     "data": {
      "image/png": "[encoded data removed]",
      "text/plain": [
       "<Figure size 360x360 with 1 Axes>"
      ]
     },
     "metadata": {},
     "output_type": "display_data"
    }
   ],
   "source": [
    "type_pie = pd.DataFrame({\"\": [m_num, s_num]},\n",
    "                       index=[\"movie\", \"series\"])\n",
    "type_pie.plot.pie(y=\"\",\n",
    "                 colors=[\"c\", \"m\"],\n",
    "                 autopct=\"%.1f\",\n",
    "                 fontsize=10,\n",
    "                 figsize=(5, 5));"
   ]
  },
  {
   "cell_type": "code",
   "execution_count": 19,
   "metadata": {},
   "outputs": [],
   "source": [
    "q1_m = movie_df[\"imdb_rating\"].quantile(0.25)\n",
    "q2_m = movie_df[\"imdb_rating\"].quantile(0.5)\n",
    "q3_m = movie_df[\"imdb_rating\"].quantile(0.75)"
   ]
  },
  {
   "cell_type": "code",
   "execution_count": 20,
   "metadata": {},
   "outputs": [],
   "source": [
    "df_inter_m = movie_df.query(\"@q1_m <= imdb_rating <= @q3_m\")\n",
    "inter_imdb_rating_m = pd.DataFrame.from_dict(data={imdb_rating: df_inter_m[\"imdb_rating\"].to_list().count(imdb_rating) for imdb_rating in set(df_inter_m[\"imdb_rating\"])},\n",
    "                                   orient=\"index\", \n",
    "                                   columns=[\"imdb_rating\"]).sort_index()"
   ]
  },
  {
   "cell_type": "markdown",
   "metadata": {},
   "source": [
    "Количество фильмов в группах с определенными оценками согласно IMDb"
   ]
  },
  {
   "cell_type": "code",
   "execution_count": 21,
   "metadata": {},
   "outputs": [
    {
     "data": {
      "text/plain": [
       "<matplotlib.axes._subplots.AxesSubplot at 0x10eae208>"
      ]
     },
     "execution_count": 21,
     "metadata": {},
     "output_type": "execute_result"
    },
    {
     "data": {
      "image/png": "[encoded data removed]",
      "text/plain": [
       "<Figure size 432x288 with 1 Axes>"
      ]
     },
     "metadata": {
      "needs_background": "light"
     },
     "output_type": "display_data"
    }
   ],
   "source": [
    "inter_imdb_rating_m.plot()"
   ]
  },
  {
   "cell_type": "code",
   "execution_count": 22,
   "metadata": {},
   "outputs": [],
   "source": [
    "q1_s = series_df[\"imdb_rating\"].quantile(0.25)\n",
    "q2_s = series_df[\"imdb_rating\"].quantile(0.5)\n",
    "q3_s = series_df[\"imdb_rating\"].quantile(0.75)"
   ]
  },
  {
   "cell_type": "code",
   "execution_count": 23,
   "metadata": {},
   "outputs": [],
   "source": [
    "df_inter_s = series_df.query(\"@q1_s <= imdb_rating <= @q3_s\")\n",
    "inter_imdb_rating_s = pd.DataFrame.from_dict(data={imdb_rating: df_inter_s[\"imdb_rating\"].to_list().count(imdb_rating) for imdb_rating in set(df_inter_s[\"imdb_rating\"])},\n",
    "                                   orient=\"index\", \n",
    "                                   columns=[\"imdb_rating\"]).sort_index()"
   ]
  },
  {
   "cell_type": "markdown",
   "metadata": {},
   "source": [
    "Количество сериалов в группах с определенными оценками согласно IMDb"
   ]
  },
  {
   "cell_type": "code",
   "execution_count": 24,
   "metadata": {
    "scrolled": true
   },
   "outputs": [
    {
     "data": {
      "text/plain": [
       "<matplotlib.axes._subplots.AxesSubplot at 0x10f1ab38>"
      ]
     },
     "execution_count": 24,
     "metadata": {},
     "output_type": "execute_result"
    },
    {
     "data": {
      "image/png": "[encoded data removed]",
      "text/plain": [
       "<Figure size 432x288 with 1 Axes>"
      ]
     },
     "metadata": {
      "needs_background": "light"
     },
     "output_type": "display_data"
    }
   ],
   "source": [
    "inter_imdb_rating_s.plot()"
   ]
  },
  {
   "cell_type": "code",
   "execution_count": 25,
   "metadata": {},
   "outputs": [
    {
     "data": {
      "text/plain": [
       "['[2;6)', '[6;7)', '[7;10]']"
      ]
     },
     "execution_count": 25,
     "metadata": {},
     "output_type": "execute_result"
    }
   ],
   "source": [
    "index_m = [\"[%d;%d)\" %(round(imdb_rating_stat[\"min\"]), round(q1_m)), \n",
    "         \"[%d;%d)\" %(round(q1_m), round(q3_m)), \n",
    "         \"[%d;%d]\" %(round(q3_m), round(imdb_rating_stat[\"max\"]))]\n",
    "\n",
    "index_m"
   ]
  },
  {
   "cell_type": "code",
   "execution_count": 26,
   "metadata": {},
   "outputs": [
    {
     "data": {
      "text/plain": [
       "['[2;6)', '[6;8)', '[8;10]']"
      ]
     },
     "execution_count": 26,
     "metadata": {},
     "output_type": "execute_result"
    }
   ],
   "source": [
    "index_s = [\"[%d;%d)\" %(round(imdb_rating_stat[\"min\"]), round(q1_s)), \n",
    "         \"[%d;%d)\" %(round(q1_s), round(q3_s)), \n",
    "         \"[%d;%d]\" %(round(q3_s), round(imdb_rating_stat[\"max\"]))]\n",
    "\n",
    "index_s"
   ]
  },
  {
   "cell_type": "code",
   "execution_count": 27,
   "metadata": {},
   "outputs": [],
   "source": [
    "m_imdb = [movie_df.query(\"imdb_rating < @q1_m\").shape[0] / movie_df.shape[0] * 100, \n",
    "         movie_df.query(\"@q1_m <= imdb_rating < @q3_m\").shape[0] / movie_df.shape[0] * 100,\n",
    "         movie_df.query(\"imdb_rating >= @q3_m\").shape[0] / movie_df.shape[0] * 100]\n",
    "\n",
    "s_imdb = [series_df.query(\"imdb_rating < @q1_s\").shape[0] / series_df.shape[0] * 100, \n",
    "         series_df.query(\"@q1_s <= imdb_rating < @q3_s\").shape[0] / series_df.shape[0] * 100,\n",
    "         series_df.query(\"imdb_rating >= @q3_s\").shape[0] / series_df.shape[0] * 100]"
   ]
  },
  {
   "cell_type": "markdown",
   "metadata": {},
   "source": [
    "Количество фильмов и сериалов в разных группах оценок (в процентном соотношении)"
   ]
  },
  {
   "cell_type": "code",
   "execution_count": 28,
   "metadata": {},
   "outputs": [
    {
     "data": {
      "image/png": "[encoded data removed]",
      "text/plain": [
       "<Figure size 432x288 with 1 Axes>"
      ]
     },
     "metadata": {
      "needs_background": "light"
     },
     "output_type": "display_data"
    }
   ],
   "source": [
    "s_or_m = pd.DataFrame({\"Movie\": m_imdb, \"Series\": s_imdb}, index=index_m)\n",
    "s_or_m.plot.bar(color=[\"deepskyblue\", \"dimgrey\"],\n",
    "                       rot=0);"
   ]
  },
  {
   "cell_type": "code",
   "execution_count": 29,
   "metadata": {},
   "outputs": [],
   "source": [
    "language_data = {name: movie_df[\"language\"].to_list().count(name) for name in movie_df[\"language\"].unique()}"
   ]
  },
  {
   "cell_type": "code",
   "execution_count": 30,
   "metadata": {},
   "outputs": [
    {
     "data": {
      "text/plain": [
       "{'PG-13': 37,\n",
       " nan: 152,\n",
       " 'G': 207,\n",
       " 'PG': 155,\n",
       " 'APPROVED': 60,\n",
       " 'TV-G': 132,\n",
       " 'UNRATED': 22,\n",
       " 'TV-PG': 41,\n",
       " 'TV-Y7': 41,\n",
       " 'TV-Y': 34,\n",
       " 'PASSED': 6,\n",
       " 'TV-14': 4,\n",
       " 'TV-Y7-FV': 3}"
      ]
     },
     "execution_count": 30,
     "metadata": {},
     "output_type": "execute_result"
    }
   ],
   "source": [
    "rated_data = {name: df_new[\"rated\"].to_list().count(name) for name in df_new[\"rated\"].unique()}\n",
    "rated_data"
   ]
  },
  {
   "cell_type": "code",
   "execution_count": 31,
   "metadata": {},
   "outputs": [],
   "source": [
    "df_new = df_new.fillna({'rated':'UNRATED'})"
   ]
  },
  {
   "cell_type": "code",
   "execution_count": 32,
   "metadata": {},
   "outputs": [
    {
     "name": "stdout",
     "output_type": "stream",
     "text": [
      "<class 'pandas.core.frame.DataFrame'>\n",
      "Index: 894 entries, tt0147800 to tt2948356\n",
      "Data columns (total 18 columns):\n",
      " #   Column       Non-Null Count  Dtype  \n",
      "---  ------       --------------  -----  \n",
      " 0   title        894 non-null    object \n",
      " 1   plot         866 non-null    object \n",
      " 2   type         894 non-null    object \n",
      " 3   rated        894 non-null    object \n",
      " 4   year         894 non-null    object \n",
      " 5   released_at  874 non-null    object \n",
      " 6   added_at     894 non-null    object \n",
      " 7   runtime      838 non-null    object \n",
      " 8   genre        885 non-null    object \n",
      " 9   director     689 non-null    object \n",
      " 10  writer       743 non-null    object \n",
      " 11  actors       870 non-null    object \n",
      " 12  language     865 non-null    object \n",
      " 13  country      869 non-null    object \n",
      " 14  awards       556 non-null    object \n",
      " 15  metascore    292 non-null    float64\n",
      " 16  imdb_rating  879 non-null    float64\n",
      " 17  imdb_votes   879 non-null    float64\n",
      "dtypes: float64(3), object(15)\n",
      "memory usage: 792.5 KB\n"
     ]
    }
   ],
   "source": [
    "df_new.info(memory_usage='deep')"
   ]
  },
  {
   "cell_type": "code",
   "execution_count": 33,
   "metadata": {},
   "outputs": [
    {
     "data": {
      "text/html": [
       "<div>\n",
       "<style scoped>\n",
       "    .dataframe tbody tr th:only-of-type {\n",
       "        vertical-align: middle;\n",
       "    }\n",
       "\n",
       "    .dataframe tbody tr th {\n",
       "        vertical-align: top;\n",
       "    }\n",
       "\n",
       "    .dataframe thead th {\n",
       "        text-align: right;\n",
       "    }\n",
       "</style>\n",
       "<table border=\"1\" class=\"dataframe\">\n",
       "  <thead>\n",
       "    <tr style=\"text-align: right;\">\n",
       "      <th></th>\n",
       "      <th>metascore</th>\n",
       "      <th>imdb_rating</th>\n",
       "      <th>imdb_votes</th>\n",
       "    </tr>\n",
       "  </thead>\n",
       "  <tbody>\n",
       "    <tr>\n",
       "      <th>count</th>\n",
       "      <td>292.0</td>\n",
       "      <td>879.0</td>\n",
       "      <td>879.0</td>\n",
       "    </tr>\n",
       "    <tr>\n",
       "      <th>mean</th>\n",
       "      <td>62.1</td>\n",
       "      <td>6.7</td>\n",
       "      <td>62,547.2</td>\n",
       "    </tr>\n",
       "    <tr>\n",
       "      <th>std</th>\n",
       "      <td>15.8</td>\n",
       "      <td>1.0</td>\n",
       "      <td>172,117.2</td>\n",
       "    </tr>\n",
       "    <tr>\n",
       "      <th>min</th>\n",
       "      <td>19.0</td>\n",
       "      <td>1.5</td>\n",
       "      <td>5.0</td>\n",
       "    </tr>\n",
       "    <tr>\n",
       "      <th>25%</th>\n",
       "      <td>51.0</td>\n",
       "      <td>6.1</td>\n",
       "      <td>695.0</td>\n",
       "    </tr>\n",
       "    <tr>\n",
       "      <th>50%</th>\n",
       "      <td>61.0</td>\n",
       "      <td>6.7</td>\n",
       "      <td>3,952.0</td>\n",
       "    </tr>\n",
       "    <tr>\n",
       "      <th>75%</th>\n",
       "      <td>73.0</td>\n",
       "      <td>7.4</td>\n",
       "      <td>24,223.0</td>\n",
       "    </tr>\n",
       "    <tr>\n",
       "      <th>max</th>\n",
       "      <td>99.0</td>\n",
       "      <td>9.7</td>\n",
       "      <td>1,225,316.0</td>\n",
       "    </tr>\n",
       "  </tbody>\n",
       "</table>\n",
       "</div>"
      ],
      "text/plain": [
       "       metascore  imdb_rating  imdb_votes\n",
       "count      292.0        879.0       879.0\n",
       "mean        62.1          6.7    62,547.2\n",
       "std         15.8          1.0   172,117.2\n",
       "min         19.0          1.5         5.0\n",
       "25%         51.0          6.1       695.0\n",
       "50%         61.0          6.7     3,952.0\n",
       "75%         73.0          7.4    24,223.0\n",
       "max         99.0          9.7 1,225,316.0"
      ]
     },
     "execution_count": 33,
     "metadata": {},
     "output_type": "execute_result"
    }
   ],
   "source": [
    "df_new.describe()"
   ]
  },
  {
   "cell_type": "code",
   "execution_count": 34,
   "metadata": {
    "scrolled": true
   },
   "outputs": [
    {
     "data": {
      "text/html": [
       "<div>\n",
       "<style scoped>\n",
       "    .dataframe tbody tr th:only-of-type {\n",
       "        vertical-align: middle;\n",
       "    }\n",
       "\n",
       "    .dataframe tbody tr th {\n",
       "        vertical-align: top;\n",
       "    }\n",
       "\n",
       "    .dataframe thead th {\n",
       "        text-align: right;\n",
       "    }\n",
       "</style>\n",
       "<table border=\"1\" class=\"dataframe\">\n",
       "  <thead>\n",
       "    <tr style=\"text-align: right;\">\n",
       "      <th></th>\n",
       "      <th>title</th>\n",
       "      <th>plot</th>\n",
       "      <th>type</th>\n",
       "      <th>rated</th>\n",
       "      <th>year</th>\n",
       "      <th>released_at</th>\n",
       "      <th>added_at</th>\n",
       "      <th>runtime</th>\n",
       "      <th>genre</th>\n",
       "      <th>director</th>\n",
       "      <th>writer</th>\n",
       "      <th>actors</th>\n",
       "      <th>language</th>\n",
       "      <th>country</th>\n",
       "      <th>awards</th>\n",
       "      <th>metascore</th>\n",
       "      <th>imdb_rating</th>\n",
       "      <th>imdb_votes</th>\n",
       "    </tr>\n",
       "    <tr>\n",
       "      <th>imdb_id</th>\n",
       "      <th></th>\n",
       "      <th></th>\n",
       "      <th></th>\n",
       "      <th></th>\n",
       "      <th></th>\n",
       "      <th></th>\n",
       "      <th></th>\n",
       "      <th></th>\n",
       "      <th></th>\n",
       "      <th></th>\n",
       "      <th></th>\n",
       "      <th></th>\n",
       "      <th></th>\n",
       "      <th></th>\n",
       "      <th></th>\n",
       "      <th></th>\n",
       "      <th></th>\n",
       "      <th></th>\n",
       "    </tr>\n",
       "  </thead>\n",
       "  <tbody>\n",
       "    <tr>\n",
       "      <th>tt0147800</th>\n",
       "      <td>10 Things I Hate About You</td>\n",
       "      <td>A pretty, popular teenager can't go out on a d...</td>\n",
       "      <td>movie</td>\n",
       "      <td>PG-13</td>\n",
       "      <td>1999</td>\n",
       "      <td>31 Mar 1999</td>\n",
       "      <td>November 12, 2019</td>\n",
       "      <td>97 min</td>\n",
       "      <td>Comedy, Drama, Romance</td>\n",
       "      <td>Gil Junger</td>\n",
       "      <td>Karen McCullah, Kirsten Smith</td>\n",
       "      <td>Heath Ledger, Julia Stiles, Joseph Gordon-Levi...</td>\n",
       "      <td>English, French</td>\n",
       "      <td>USA</td>\n",
       "      <td>2 wins &amp; 13 nominations.</td>\n",
       "      <td>70.0</td>\n",
       "      <td>7.3</td>\n",
       "      <td>283,945.0</td>\n",
       "    </tr>\n",
       "    <tr>\n",
       "      <th>tt7019028</th>\n",
       "      <td>101 Dalmatian Street</td>\n",
       "      <td>This series follows the lives of Delilah and D...</td>\n",
       "      <td>series</td>\n",
       "      <td>UNRATED</td>\n",
       "      <td>2018–</td>\n",
       "      <td>25 Mar 2019</td>\n",
       "      <td>February 28, 2020</td>\n",
       "      <td>NaN</td>\n",
       "      <td>Animation, Comedy, Family</td>\n",
       "      <td>NaN</td>\n",
       "      <td>NaN</td>\n",
       "      <td>Josh Brener, Michaela Dietz, Bert Davis, Abiga...</td>\n",
       "      <td>English</td>\n",
       "      <td>UK, USA, Canada</td>\n",
       "      <td>NaN</td>\n",
       "      <td>NaN</td>\n",
       "      <td>6.2</td>\n",
       "      <td>124.0</td>\n",
       "    </tr>\n",
       "    <tr>\n",
       "      <th>tt0115433</th>\n",
       "      <td>101 Dalmatians</td>\n",
       "      <td>An evil high-fashion designer plots to steal D...</td>\n",
       "      <td>movie</td>\n",
       "      <td>G</td>\n",
       "      <td>1996</td>\n",
       "      <td>27 Nov 1996</td>\n",
       "      <td>November 12, 2019</td>\n",
       "      <td>103 min</td>\n",
       "      <td>Adventure, Comedy, Crime, Family</td>\n",
       "      <td>Stephen Herek</td>\n",
       "      <td>Dodie Smith (novel), John Hughes (screenplay)</td>\n",
       "      <td>Glenn Close, Jeff Daniels, Joely Richardson, J...</td>\n",
       "      <td>English, Spanish</td>\n",
       "      <td>USA, UK</td>\n",
       "      <td>Nominated for 1 Golden Globe. Another 3 wins &amp;...</td>\n",
       "      <td>49.0</td>\n",
       "      <td>5.7</td>\n",
       "      <td>97,785.0</td>\n",
       "    </tr>\n",
       "    <tr>\n",
       "      <th>tt0324941</th>\n",
       "      <td>101 Dalmatians 2: Patch's London Adventure</td>\n",
       "      <td>Being one of 101 takes its toll on Patch, who ...</td>\n",
       "      <td>movie</td>\n",
       "      <td>G</td>\n",
       "      <td>2002</td>\n",
       "      <td>21 Jan 2003</td>\n",
       "      <td>November 12, 2019</td>\n",
       "      <td>74 min</td>\n",
       "      <td>Animation, Adventure, Comedy, Family, Musical</td>\n",
       "      <td>Jim Kammerud, Brian Smith</td>\n",
       "      <td>Jim Kammerud (story), Dan Root (story), Garret...</td>\n",
       "      <td>Barry Bostwick, Jason Alexander, Martin Short,...</td>\n",
       "      <td>English</td>\n",
       "      <td>USA</td>\n",
       "      <td>5 wins &amp; 10 nominations.</td>\n",
       "      <td>NaN</td>\n",
       "      <td>5.8</td>\n",
       "      <td>7,434.0</td>\n",
       "    </tr>\n",
       "    <tr>\n",
       "      <th>tt0211181</th>\n",
       "      <td>102 Dalmatians</td>\n",
       "      <td>Cruella DeVil gets out of prison and goes afte...</td>\n",
       "      <td>movie</td>\n",
       "      <td>G</td>\n",
       "      <td>2000</td>\n",
       "      <td>22 Nov 2000</td>\n",
       "      <td>November 12, 2019</td>\n",
       "      <td>100 min</td>\n",
       "      <td>Adventure, Comedy, Family</td>\n",
       "      <td>Kevin Lima</td>\n",
       "      <td>Dodie Smith (novel), Kristen Buckley (story), ...</td>\n",
       "      <td>Glenn Close, Gérard Depardieu, Ioan Gruffudd, ...</td>\n",
       "      <td>English</td>\n",
       "      <td>USA, UK</td>\n",
       "      <td>Nominated for 1 Oscar. Another 1 win &amp; 7 nomin...</td>\n",
       "      <td>35.0</td>\n",
       "      <td>4.9</td>\n",
       "      <td>33,444.0</td>\n",
       "    </tr>\n",
       "  </tbody>\n",
       "</table>\n",
       "</div>"
      ],
      "text/plain": [
       "                                                title  \\\n",
       "imdb_id                                                 \n",
       "tt0147800                  10 Things I Hate About You   \n",
       "tt7019028                        101 Dalmatian Street   \n",
       "tt0115433                              101 Dalmatians   \n",
       "tt0324941  101 Dalmatians 2: Patch's London Adventure   \n",
       "tt0211181                              102 Dalmatians   \n",
       "\n",
       "                                                        plot    type    rated  \\\n",
       "imdb_id                                                                         \n",
       "tt0147800  A pretty, popular teenager can't go out on a d...   movie    PG-13   \n",
       "tt7019028  This series follows the lives of Delilah and D...  series  UNRATED   \n",
       "tt0115433  An evil high-fashion designer plots to steal D...   movie        G   \n",
       "tt0324941  Being one of 101 takes its toll on Patch, who ...   movie        G   \n",
       "tt0211181  Cruella DeVil gets out of prison and goes afte...   movie        G   \n",
       "\n",
       "            year  released_at           added_at  runtime  \\\n",
       "imdb_id                                                     \n",
       "tt0147800   1999  31 Mar 1999  November 12, 2019   97 min   \n",
       "tt7019028  2018–  25 Mar 2019  February 28, 2020      NaN   \n",
       "tt0115433   1996  27 Nov 1996  November 12, 2019  103 min   \n",
       "tt0324941   2002  21 Jan 2003  November 12, 2019   74 min   \n",
       "tt0211181   2000  22 Nov 2000  November 12, 2019  100 min   \n",
       "\n",
       "                                                   genre  \\\n",
       "imdb_id                                                    \n",
       "tt0147800                         Comedy, Drama, Romance   \n",
       "tt7019028                      Animation, Comedy, Family   \n",
       "tt0115433               Adventure, Comedy, Crime, Family   \n",
       "tt0324941  Animation, Adventure, Comedy, Family, Musical   \n",
       "tt0211181                      Adventure, Comedy, Family   \n",
       "\n",
       "                            director  \\\n",
       "imdb_id                                \n",
       "tt0147800                 Gil Junger   \n",
       "tt7019028                        NaN   \n",
       "tt0115433              Stephen Herek   \n",
       "tt0324941  Jim Kammerud, Brian Smith   \n",
       "tt0211181                 Kevin Lima   \n",
       "\n",
       "                                                      writer  \\\n",
       "imdb_id                                                        \n",
       "tt0147800                      Karen McCullah, Kirsten Smith   \n",
       "tt7019028                                                NaN   \n",
       "tt0115433      Dodie Smith (novel), John Hughes (screenplay)   \n",
       "tt0324941  Jim Kammerud (story), Dan Root (story), Garret...   \n",
       "tt0211181  Dodie Smith (novel), Kristen Buckley (story), ...   \n",
       "\n",
       "                                                      actors  \\\n",
       "imdb_id                                                        \n",
       "tt0147800  Heath Ledger, Julia Stiles, Joseph Gordon-Levi...   \n",
       "tt7019028  Josh Brener, Michaela Dietz, Bert Davis, Abiga...   \n",
       "tt0115433  Glenn Close, Jeff Daniels, Joely Richardson, J...   \n",
       "tt0324941  Barry Bostwick, Jason Alexander, Martin Short,...   \n",
       "tt0211181  Glenn Close, Gérard Depardieu, Ioan Gruffudd, ...   \n",
       "\n",
       "                   language          country  \\\n",
       "imdb_id                                        \n",
       "tt0147800   English, French              USA   \n",
       "tt7019028           English  UK, USA, Canada   \n",
       "tt0115433  English, Spanish          USA, UK   \n",
       "tt0324941           English              USA   \n",
       "tt0211181           English          USA, UK   \n",
       "\n",
       "                                                      awards  metascore  \\\n",
       "imdb_id                                                                   \n",
       "tt0147800                           2 wins & 13 nominations.       70.0   \n",
       "tt7019028                                                NaN        NaN   \n",
       "tt0115433  Nominated for 1 Golden Globe. Another 3 wins &...       49.0   \n",
       "tt0324941                           5 wins & 10 nominations.        NaN   \n",
       "tt0211181  Nominated for 1 Oscar. Another 1 win & 7 nomin...       35.0   \n",
       "\n",
       "           imdb_rating  imdb_votes  \n",
       "imdb_id                             \n",
       "tt0147800          7.3   283,945.0  \n",
       "tt7019028          6.2       124.0  \n",
       "tt0115433          5.7    97,785.0  \n",
       "tt0324941          5.8     7,434.0  \n",
       "tt0211181          4.9    33,444.0  "
      ]
     },
     "execution_count": 34,
     "metadata": {},
     "output_type": "execute_result"
    }
   ],
   "source": [
    "df_new.head()"
   ]
  },
  {
   "cell_type": "code",
   "execution_count": 35,
   "metadata": {},
   "outputs": [],
   "source": [
    "df_new = df_new.dropna(axis=0, subset=['imdb_votes'])"
   ]
  },
  {
   "cell_type": "code",
   "execution_count": 36,
   "metadata": {},
   "outputs": [
    {
     "data": {
      "text/plain": [
       "title            0\n",
       "plot            20\n",
       "type             0\n",
       "rated            0\n",
       "year             0\n",
       "released_at     15\n",
       "added_at         0\n",
       "runtime         48\n",
       "genre            4\n",
       "director       195\n",
       "writer         140\n",
       "actors          16\n",
       "language        21\n",
       "country         18\n",
       "awards         323\n",
       "metascore      587\n",
       "imdb_rating      0\n",
       "imdb_votes       0\n",
       "dtype: int64"
      ]
     },
     "execution_count": 36,
     "metadata": {},
     "output_type": "execute_result"
    }
   ],
   "source": [
    "df_new.isnull().sum()"
   ]
  },
  {
   "cell_type": "code",
   "execution_count": 37,
   "metadata": {},
   "outputs": [
    {
     "data": {
      "text/plain": [
       "[('TV-Y', 34),\n",
       " ('PG-13', 37),\n",
       " ('TV-PG', 41),\n",
       " ('TV-Y7', 41),\n",
       " ('APPROVED', 60),\n",
       " ('TV-G', 132),\n",
       " ('PG', 155),\n",
       " ('UNRATED', 160),\n",
       " ('G', 207)]"
      ]
     },
     "execution_count": 37,
     "metadata": {},
     "output_type": "execute_result"
    }
   ],
   "source": [
    "from operator import itemgetter\n",
    "\n",
    "rated_data = [(name, df_new[\"rated\"].to_list().count(name)) \n",
    "                  for name in df_new[\"rated\"].unique() \n",
    "                  if df_new[\"rated\"].to_list().count(name) > 10]\n",
    "rated_data = sorted(rated_data, key=itemgetter(1))\n",
    "rated_data"
   ]
  },
  {
   "cell_type": "code",
   "execution_count": 38,
   "metadata": {},
   "outputs": [
    {
     "data": {
      "text/plain": [
       "[('TV-Y', 34),\n",
       " ('PG-13', 37),\n",
       " ('TV-PG', 41),\n",
       " ('TV-Y7', 41),\n",
       " ('APPROVED', 60),\n",
       " ('TV-G', 132),\n",
       " ('PG', 155),\n",
       " ('G', 207)]"
      ]
     },
     "execution_count": 38,
     "metadata": {},
     "output_type": "execute_result"
    }
   ],
   "source": [
    "rated_data_opt = [i for i in rated_data if \"UNRATED\" != i[0]]\n",
    "rated_data_opt"
   ]
  },
  {
   "cell_type": "code",
   "execution_count": 39,
   "metadata": {},
   "outputs": [],
   "source": [
    "ratings = []\n",
    "rated_count = []\n",
    "\n",
    "for rating, rated_count_num in rated_data:\n",
    "  ratings.append(rating)\n",
    "  rated_count.append(rated_count_num)\n",
    "    \n",
    "    \n",
    "ratings_opt = []\n",
    "rated_count_opt = []\n",
    "\n",
    "for rating, rated_count_num in rated_data_opt:\n",
    "  ratings_opt.append(rating)\n",
    "  rated_count_opt.append(rated_count_num)\n",
    "\n",
    "\n",
    "ratings_df = pd.DataFrame({\"rating\": ratings,\"number\":rated_count})\n",
    "ratings_df_opt = pd.DataFrame({\"rating\": ratings_opt,\"number\":rated_count_opt})"
   ]
  },
  {
   "cell_type": "markdown",
   "metadata": {},
   "source": [
    "Количество шоу по рейтингам"
   ]
  },
  {
   "cell_type": "code",
   "execution_count": 40,
   "metadata": {},
   "outputs": [
    {
     "data": {
      "image/png": "[encoded data removed]",
      "text/plain": [
       "<Figure size 864x360 with 2 Axes>"
      ]
     },
     "metadata": {
      "needs_background": "light"
     },
     "output_type": "display_data"
    }
   ],
   "source": [
    "fig, axes = plt.subplots(nrows=1, ncols=2)\n",
    "ratings_df.plot.barh(ax=axes[0], x=\"rating\", y=\"number\", figsize=(12, 5));\n",
    "ratings_df_opt.plot.barh(ax=axes[1], x=\"rating\", y=\"number\", figsize=(12, 5));"
   ]
  },
  {
   "cell_type": "code",
   "execution_count": 41,
   "metadata": {},
   "outputs": [
    {
     "data": {
      "text/html": [
       "<div>\n",
       "<style scoped>\n",
       "    .dataframe tbody tr th:only-of-type {\n",
       "        vertical-align: middle;\n",
       "    }\n",
       "\n",
       "    .dataframe tbody tr th {\n",
       "        vertical-align: top;\n",
       "    }\n",
       "\n",
       "    .dataframe thead th {\n",
       "        text-align: right;\n",
       "    }\n",
       "</style>\n",
       "<table border=\"1\" class=\"dataframe\">\n",
       "  <thead>\n",
       "    <tr style=\"text-align: right;\">\n",
       "      <th></th>\n",
       "      <th>Rating</th>\n",
       "      <th>Total</th>\n",
       "      <th>movie</th>\n",
       "      <th>series</th>\n",
       "    </tr>\n",
       "  </thead>\n",
       "  <tbody>\n",
       "    <tr>\n",
       "      <th>0</th>\n",
       "      <td>TV-Y7-FV</td>\n",
       "      <td>2</td>\n",
       "      <td>1</td>\n",
       "      <td>1</td>\n",
       "    </tr>\n",
       "    <tr>\n",
       "      <th>1</th>\n",
       "      <td>TV-14</td>\n",
       "      <td>4</td>\n",
       "      <td>1</td>\n",
       "      <td>3</td>\n",
       "    </tr>\n",
       "    <tr>\n",
       "      <th>2</th>\n",
       "      <td>PASSED</td>\n",
       "      <td>6</td>\n",
       "      <td>6</td>\n",
       "      <td>0</td>\n",
       "    </tr>\n",
       "    <tr>\n",
       "      <th>3</th>\n",
       "      <td>TV-Y</td>\n",
       "      <td>34</td>\n",
       "      <td>0</td>\n",
       "      <td>34</td>\n",
       "    </tr>\n",
       "    <tr>\n",
       "      <th>4</th>\n",
       "      <td>PG-13</td>\n",
       "      <td>37</td>\n",
       "      <td>37</td>\n",
       "      <td>0</td>\n",
       "    </tr>\n",
       "    <tr>\n",
       "      <th>5</th>\n",
       "      <td>TV-PG</td>\n",
       "      <td>41</td>\n",
       "      <td>23</td>\n",
       "      <td>17</td>\n",
       "    </tr>\n",
       "    <tr>\n",
       "      <th>6</th>\n",
       "      <td>TV-Y7</td>\n",
       "      <td>41</td>\n",
       "      <td>3</td>\n",
       "      <td>38</td>\n",
       "    </tr>\n",
       "    <tr>\n",
       "      <th>7</th>\n",
       "      <td>APPROVED</td>\n",
       "      <td>60</td>\n",
       "      <td>60</td>\n",
       "      <td>0</td>\n",
       "    </tr>\n",
       "    <tr>\n",
       "      <th>8</th>\n",
       "      <td>TV-G</td>\n",
       "      <td>132</td>\n",
       "      <td>89</td>\n",
       "      <td>40</td>\n",
       "    </tr>\n",
       "    <tr>\n",
       "      <th>9</th>\n",
       "      <td>PG</td>\n",
       "      <td>155</td>\n",
       "      <td>155</td>\n",
       "      <td>0</td>\n",
       "    </tr>\n",
       "    <tr>\n",
       "      <th>10</th>\n",
       "      <td>UNRATED</td>\n",
       "      <td>160</td>\n",
       "      <td>96</td>\n",
       "      <td>51</td>\n",
       "    </tr>\n",
       "    <tr>\n",
       "      <th>11</th>\n",
       "      <td>G</td>\n",
       "      <td>207</td>\n",
       "      <td>205</td>\n",
       "      <td>1</td>\n",
       "    </tr>\n",
       "  </tbody>\n",
       "</table>\n",
       "</div>"
      ],
      "text/plain": [
       "      Rating  Total  movie  series\n",
       "0   TV-Y7-FV      2      1       1\n",
       "1      TV-14      4      1       3\n",
       "2     PASSED      6      6       0\n",
       "3       TV-Y     34      0      34\n",
       "4      PG-13     37     37       0\n",
       "5      TV-PG     41     23      17\n",
       "6      TV-Y7     41      3      38\n",
       "7   APPROVED     60     60       0\n",
       "8       TV-G    132     89      40\n",
       "9         PG    155    155       0\n",
       "10   UNRATED    160     96      51\n",
       "11         G    207    205       1"
      ]
     },
     "execution_count": 41,
     "metadata": {},
     "output_type": "execute_result"
    }
   ],
   "source": [
    "rating_data_type = [(name,\n",
    "                   df_new[\"rated\"].to_list().count(name),\n",
    "                   df_new.query(\"type == 'movie'\")[\"rated\"].to_list().count(name),\n",
    "                   df_new.query(\"type == 'series'\")[\"rated\"].to_list().count(name)) \n",
    "                  for name in df_new[\"rated\"].unique() \n",
    "                  if df_new[\"rated\"].to_list().count(name) > 0]\n",
    "\n",
    "rating_data_type = sorted(rating_data_type, key=itemgetter(1))\n",
    "rating_type_df = pd.DataFrame.from_records(rating_data_type, \n",
    "                                         columns=[\"Rating\", \"Total\", \"movie\", \"series\"])\n",
    "rating_type_df"
   ]
  },
  {
   "cell_type": "code",
   "execution_count": 42,
   "metadata": {},
   "outputs": [
    {
     "data": {
      "text/html": [
       "<div>\n",
       "<style scoped>\n",
       "    .dataframe tbody tr th:only-of-type {\n",
       "        vertical-align: middle;\n",
       "    }\n",
       "\n",
       "    .dataframe tbody tr th {\n",
       "        vertical-align: top;\n",
       "    }\n",
       "\n",
       "    .dataframe thead th {\n",
       "        text-align: right;\n",
       "    }\n",
       "</style>\n",
       "<table border=\"1\" class=\"dataframe\">\n",
       "  <thead>\n",
       "    <tr style=\"text-align: right;\">\n",
       "      <th></th>\n",
       "      <th>Rating</th>\n",
       "      <th>Total</th>\n",
       "      <th>movie</th>\n",
       "      <th>series</th>\n",
       "    </tr>\n",
       "  </thead>\n",
       "  <tbody>\n",
       "    <tr>\n",
       "      <th>0</th>\n",
       "      <td>TV-Y7-FV</td>\n",
       "      <td>2</td>\n",
       "      <td>1</td>\n",
       "      <td>1</td>\n",
       "    </tr>\n",
       "    <tr>\n",
       "      <th>1</th>\n",
       "      <td>TV-14</td>\n",
       "      <td>4</td>\n",
       "      <td>1</td>\n",
       "      <td>3</td>\n",
       "    </tr>\n",
       "    <tr>\n",
       "      <th>2</th>\n",
       "      <td>PASSED</td>\n",
       "      <td>6</td>\n",
       "      <td>6</td>\n",
       "      <td>0</td>\n",
       "    </tr>\n",
       "    <tr>\n",
       "      <th>3</th>\n",
       "      <td>TV-Y</td>\n",
       "      <td>34</td>\n",
       "      <td>0</td>\n",
       "      <td>34</td>\n",
       "    </tr>\n",
       "    <tr>\n",
       "      <th>4</th>\n",
       "      <td>PG-13</td>\n",
       "      <td>37</td>\n",
       "      <td>37</td>\n",
       "      <td>0</td>\n",
       "    </tr>\n",
       "    <tr>\n",
       "      <th>5</th>\n",
       "      <td>TV-PG</td>\n",
       "      <td>41</td>\n",
       "      <td>23</td>\n",
       "      <td>17</td>\n",
       "    </tr>\n",
       "    <tr>\n",
       "      <th>6</th>\n",
       "      <td>TV-Y7</td>\n",
       "      <td>41</td>\n",
       "      <td>3</td>\n",
       "      <td>38</td>\n",
       "    </tr>\n",
       "    <tr>\n",
       "      <th>7</th>\n",
       "      <td>APPROVED</td>\n",
       "      <td>60</td>\n",
       "      <td>60</td>\n",
       "      <td>0</td>\n",
       "    </tr>\n",
       "    <tr>\n",
       "      <th>8</th>\n",
       "      <td>TV-G</td>\n",
       "      <td>132</td>\n",
       "      <td>89</td>\n",
       "      <td>40</td>\n",
       "    </tr>\n",
       "    <tr>\n",
       "      <th>9</th>\n",
       "      <td>PG</td>\n",
       "      <td>155</td>\n",
       "      <td>155</td>\n",
       "      <td>0</td>\n",
       "    </tr>\n",
       "    <tr>\n",
       "      <th>11</th>\n",
       "      <td>G</td>\n",
       "      <td>207</td>\n",
       "      <td>205</td>\n",
       "      <td>1</td>\n",
       "    </tr>\n",
       "  </tbody>\n",
       "</table>\n",
       "</div>"
      ],
      "text/plain": [
       "      Rating  Total  movie  series\n",
       "0   TV-Y7-FV      2      1       1\n",
       "1      TV-14      4      1       3\n",
       "2     PASSED      6      6       0\n",
       "3       TV-Y     34      0      34\n",
       "4      PG-13     37     37       0\n",
       "5      TV-PG     41     23      17\n",
       "6      TV-Y7     41      3      38\n",
       "7   APPROVED     60     60       0\n",
       "8       TV-G    132     89      40\n",
       "9         PG    155    155       0\n",
       "11         G    207    205       1"
      ]
     },
     "execution_count": 42,
     "metadata": {},
     "output_type": "execute_result"
    }
   ],
   "source": [
    "rating_type_df_opt = rating_type_df[(rating_type_df[\"Rating\"] != \"UNRATED\")]\n",
    "rating_type_df_opt"
   ]
  },
  {
   "cell_type": "code",
   "execution_count": 43,
   "metadata": {},
   "outputs": [],
   "source": [
    "df_draw = pd.DataFrame({\"movie\": rating_type_df[\"movie\"].to_list(),\n",
    "                        \"series\": rating_type_df[\"series\"].to_list()},\n",
    "                       index=rating_type_df[\"Rating\"].to_list())\n",
    "df_draw_opt = pd.DataFrame({\"movie\": rating_type_df_opt[\"movie\"].to_list(),\n",
    "                        \"series\": rating_type_df_opt[\"series\"].to_list()},\n",
    "                       index=rating_type_df_opt[\"Rating\"].to_list())"
   ]
  },
  {
   "cell_type": "markdown",
   "metadata": {},
   "source": [
    "Количество шоу по рейтингам с распределением на фильмы и сериалы"
   ]
  },
  {
   "cell_type": "code",
   "execution_count": 44,
   "metadata": {},
   "outputs": [
    {
     "data": {
      "image/png": "[encoded data removed]",
      "text/plain": [
       "<Figure size 864x360 with 2 Axes>"
      ]
     },
     "metadata": {
      "needs_background": "light"
     },
     "output_type": "display_data"
    }
   ],
   "source": [
    "fig, axes = plt.subplots(nrows=1, ncols=2)\n",
    "df_draw.plot.barh(ax=axes[0],\n",
    "                  color=[\"deepskyblue\", \"orange\"],\n",
    "                  stacked=True,\n",
    "                  figsize=(12, 5));\n",
    "df_draw_opt.plot.barh(ax=axes[1],\n",
    "                      color=[\"deepskyblue\", \"orange\"],\n",
    "                      stacked=True,\n",
    "                      figsize=(12, 5));"
   ]
  },
  {
   "cell_type": "code",
   "execution_count": 45,
   "metadata": {},
   "outputs": [],
   "source": [
    "movie_df['year'] = movie_df['year'].astype(int)"
   ]
  },
  {
   "cell_type": "code",
   "execution_count": 46,
   "metadata": {},
   "outputs": [],
   "source": [
    "q1_y = movie_df[\"year\"].quantile(0.25)\n",
    "q2_y = movie_df[\"year\"].quantile(0.5)\n",
    "q3_y = movie_df[\"year\"].quantile(0.75)"
   ]
  },
  {
   "cell_type": "code",
   "execution_count": 47,
   "metadata": {},
   "outputs": [],
   "source": [
    "df_year_m = movie_df.query(\"@q1_y <=year\")\n",
    "inter_year_m = pd.DataFrame.from_dict(data={year: df_year_m[\"year\"].to_list().count(year) for year in set(df_year_m[\"year\"])},\n",
    "                                   orient=\"index\", \n",
    "                                   columns=[\"year\"]).sort_index()"
   ]
  },
  {
   "cell_type": "markdown",
   "metadata": {},
   "source": [
    "Количество выпущенных фильмов за определенные года"
   ]
  },
  {
   "cell_type": "code",
   "execution_count": 48,
   "metadata": {
    "scrolled": true
   },
   "outputs": [
    {
     "data": {
      "text/plain": [
       "<matplotlib.axes._subplots.AxesSubplot at 0x11508d78>"
      ]
     },
     "execution_count": 48,
     "metadata": {},
     "output_type": "execute_result"
    },
    {
     "data": {
      "image/png": "[encoded data removed]",
      "text/plain": [
       "<Figure size 432x288 with 1 Axes>"
      ]
     },
     "metadata": {
      "needs_background": "light"
     },
     "output_type": "display_data"
    }
   ],
   "source": [
    "inter_year_m.plot()"
   ]
  },
  {
   "cell_type": "code",
   "execution_count": 49,
   "metadata": {},
   "outputs": [],
   "source": [
    "movie_df['runtime'] = movie_df['runtime'].str.replace('min','')\n",
    "movie_df = movie_df.dropna(axis=0, subset=['runtime'])\n",
    "movie_df['runtime'] = movie_df['runtime'].astype(int)"
   ]
  },
  {
   "cell_type": "markdown",
   "metadata": {},
   "source": [
    "Зависимость продолжительности фильма от года его выхода"
   ]
  },
  {
   "cell_type": "code",
   "execution_count": 55,
   "metadata": {},
   "outputs": [
    {
     "data": {
      "image/png": "[encoded data removed]",
      "text/plain": [
       "<Figure size 432x288 with 1 Axes>"
      ]
     },
     "metadata": {
      "needs_background": "light"
     },
     "output_type": "display_data"
    }
   ],
   "source": [
    "m_lenght = movie_df.pivot_table(index='year', values='runtime')\n",
    "m_lenght.reset_index().plot.line('year','runtime')\n",
    "plt.show()"
   ]
  },
  {
   "cell_type": "code",
   "execution_count": 51,
   "metadata": {},
   "outputs": [],
   "source": [
    "runtime_data = {name: movie_df[\"runtime\"].to_list().count(name) for name in movie_df[\"runtime\"].unique()}"
   ]
  },
  {
   "cell_type": "code",
   "execution_count": 52,
   "metadata": {},
   "outputs": [
    {
     "data": {
      "text/html": [
       "<div>\n",
       "<style scoped>\n",
       "    .dataframe tbody tr th:only-of-type {\n",
       "        vertical-align: middle;\n",
       "    }\n",
       "\n",
       "    .dataframe tbody tr th {\n",
       "        vertical-align: top;\n",
       "    }\n",
       "\n",
       "    .dataframe thead th {\n",
       "        text-align: right;\n",
       "    }\n",
       "</style>\n",
       "<table border=\"1\" class=\"dataframe\">\n",
       "  <thead>\n",
       "    <tr style=\"text-align: right;\">\n",
       "      <th></th>\n",
       "      <th>year</th>\n",
       "      <th>runtime</th>\n",
       "      <th>metascore</th>\n",
       "      <th>imdb_rating</th>\n",
       "      <th>imdb_votes</th>\n",
       "    </tr>\n",
       "  </thead>\n",
       "  <tbody>\n",
       "    <tr>\n",
       "      <th>count</th>\n",
       "      <td>662.0</td>\n",
       "      <td>662.0</td>\n",
       "      <td>291.0</td>\n",
       "      <td>660.0</td>\n",
       "      <td>660.0</td>\n",
       "    </tr>\n",
       "    <tr>\n",
       "      <th>mean</th>\n",
       "      <td>1,993.2</td>\n",
       "      <td>78.4</td>\n",
       "      <td>62.1</td>\n",
       "      <td>6.6</td>\n",
       "      <td>81,019.9</td>\n",
       "    </tr>\n",
       "    <tr>\n",
       "      <th>std</th>\n",
       "      <td>24.3</td>\n",
       "      <td>37.5</td>\n",
       "      <td>15.8</td>\n",
       "      <td>1.0</td>\n",
       "      <td>194,610.1</td>\n",
       "    </tr>\n",
       "    <tr>\n",
       "      <th>min</th>\n",
       "      <td>1,928.0</td>\n",
       "      <td>3.0</td>\n",
       "      <td>19.0</td>\n",
       "      <td>1.5</td>\n",
       "      <td>6.0</td>\n",
       "    </tr>\n",
       "    <tr>\n",
       "      <th>25%</th>\n",
       "      <td>1,984.0</td>\n",
       "      <td>70.2</td>\n",
       "      <td>51.0</td>\n",
       "      <td>6.0</td>\n",
       "      <td>1,288.5</td>\n",
       "    </tr>\n",
       "    <tr>\n",
       "      <th>50%</th>\n",
       "      <td>2,002.0</td>\n",
       "      <td>88.0</td>\n",
       "      <td>61.0</td>\n",
       "      <td>6.7</td>\n",
       "      <td>6,254.5</td>\n",
       "    </tr>\n",
       "    <tr>\n",
       "      <th>75%</th>\n",
       "      <td>2,010.0</td>\n",
       "      <td>100.0</td>\n",
       "      <td>73.0</td>\n",
       "      <td>7.3</td>\n",
       "      <td>42,955.5</td>\n",
       "    </tr>\n",
       "    <tr>\n",
       "      <th>max</th>\n",
       "      <td>2,020.0</td>\n",
       "      <td>181.0</td>\n",
       "      <td>99.0</td>\n",
       "      <td>8.7</td>\n",
       "      <td>1,225,316.0</td>\n",
       "    </tr>\n",
       "  </tbody>\n",
       "</table>\n",
       "</div>"
      ],
      "text/plain": [
       "         year  runtime  metascore  imdb_rating  imdb_votes\n",
       "count   662.0    662.0      291.0        660.0       660.0\n",
       "mean  1,993.2     78.4       62.1          6.6    81,019.9\n",
       "std      24.3     37.5       15.8          1.0   194,610.1\n",
       "min   1,928.0      3.0       19.0          1.5         6.0\n",
       "25%   1,984.0     70.2       51.0          6.0     1,288.5\n",
       "50%   2,002.0     88.0       61.0          6.7     6,254.5\n",
       "75%   2,010.0    100.0       73.0          7.3    42,955.5\n",
       "max   2,020.0    181.0       99.0          8.7 1,225,316.0"
      ]
     },
     "execution_count": 52,
     "metadata": {},
     "output_type": "execute_result"
    }
   ],
   "source": [
    "movie_df.describe()"
   ]
  },
  {
   "cell_type": "markdown",
   "metadata": {},
   "source": [
    "Зависимость рейтинга от продолжительности фильма"
   ]
  },
  {
   "cell_type": "code",
   "execution_count": 60,
   "metadata": {},
   "outputs": [
    {
     "data": {
      "image/png": "[encoded data removed]",
      "text/plain": [
       "<Figure size 432x288 with 1 Axes>"
      ]
     },
     "metadata": {
      "needs_background": "light"
     },
     "output_type": "display_data"
    }
   ],
   "source": [
    "m_lenghts = movie_df.pivot_table(index='imdb_rating', values='runtime')\n",
    "m_lenghts.reset_index().plot.scatter('imdb_rating','runtime')\n",
    "plt.show()"
   ]
  },
  {
   "cell_type": "markdown",
   "metadata": {},
   "source": [
    "Зависимость рейтинга от количества проголосовавших"
   ]
  },
  {
   "cell_type": "code",
   "execution_count": 57,
   "metadata": {},
   "outputs": [
    {
     "data": {
      "image/png": "[encoded data removed]",
      "text/plain": [
       "<Figure size 432x288 with 1 Axes>"
      ]
     },
     "metadata": {
      "needs_background": "light"
     },
     "output_type": "display_data"
    }
   ],
   "source": [
    "m_imdb = movie_df.pivot_table(index='imdb_rating', values='imdb_votes')\n",
    "m_imdb.reset_index().plot.line('imdb_rating','imdb_votes')\n",
    "plt.show()"
   ]
  },
  {
   "cell_type": "code",
   "execution_count": null,
   "metadata": {},
   "outputs": [],
   "source": []
  }
 ],
 "metadata": {
  "kernelspec": {
   "display_name": "Python 3",
   "language": "python",
   "name": "python3"
  },
  "language_info": {
   "codemirror_mode": {
    "name": "ipython",
    "version": 3
   },
   "file_extension": ".py",
   "mimetype": "text/x-python",
   "name": "python",
   "nbconvert_exporter": "python",
   "pygments_lexer": "ipython3",
   "version": "3.8.3"
  }
 },
 "nbformat": 4,
 "nbformat_minor": 4
}
